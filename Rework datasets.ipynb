{
 "cells": [
  {
   "cell_type": "markdown",
   "id": "3fa0e9a3",
   "metadata": {},
   "source": [
    "# Rework datasets"
   ]
  },
  {
   "cell_type": "markdown",
   "id": "ebc6befd",
   "metadata": {},
   "source": [
    "## Introduction"
   ]
  },
  {
   "cell_type": "markdown",
   "id": "e829dfbe",
   "metadata": {},
   "source": [
    "In this notebook, we will be downloading and concatinating multiple datasets to form a large dataset to perform our EDA as well as perform ML functions on. The various weather attributes were downloaded from the European Climate Assessment & Dataset (ECA&D) from the year 1979-01-01 to 2022-12-31. The compiled datasets are of a blended series. While most of the data have been observed at a weather station near Heathrow Airport, some have been taken from two nearby locations. The purpose of this notebook is to concatanate a dataset which will be utilized in the \"Precipitation in London\" notebook."
   ]
  },
  {
   "cell_type": "code",
   "execution_count": 1,
   "id": "b45ed485",
   "metadata": {},
   "outputs": [],
   "source": [
    "# Import standard data science & visualization packages\n",
    "import numpy as np\n",
    "import pandas as pd\n",
    "import matplotlib.pyplot as plt\n",
    "import seaborn as sns\n",
    "from scipy import stats\n",
    "\n",
    "%matplotlib inline"
   ]
  },
  {
   "cell_type": "markdown",
   "id": "84cc2361",
   "metadata": {},
   "source": [
    "To help clean the data, a supplementary document (noted on seperate word file) was used to clarify any changes and adjustments required for the respective datasets."
   ]
  },
  {
   "cell_type": "markdown",
   "id": "6de178f9",
   "metadata": {},
   "source": [
    "# Data dictionary:\n",
    "- `DATE`: recorded date of measurement\n",
    "- `CC`: Cloud Cover, measurement in oktas 18 NA\n",
    "- `HU`: Humidity, measurement in %, 57 NA\n",
    "- `QQ`: Global Radiation, irradiance measurement in Watt per square meter (W/m2), 25 NA\n",
    "- `TX`: Temperature Maximum, maximum temperature recorded in degrees Celsius (°C)\n",
    "- `TG`: Temperature Mean, mean temperature in degrees Celsius (°C), 29 NA\n",
    "- `TN`: Temperature Minimum, minimum temperature recorded in degrees Celsius (°C)\n",
    "- `RR`: Precipitation, precipitation measurement in millimeters (mm)\n",
    "- `PP`: Pressure, pressure measurement in Pascals (hPa), 4 NA\n",
    "- `SD`: Snow Depth, depth measurement in centimeters (cm), 12 NA & 10 DATES NA, ALSO 32157 rows (includes header)\n",
    "- `SS`: Sunshine, measurement in hours (hrs)\n"
   ]
  },
  {
   "cell_type": "markdown",
   "id": "e7ccf0f1",
   "metadata": {},
   "source": [
    "## CC"
   ]
  },
  {
   "cell_type": "code",
   "execution_count": 2,
   "id": "7d1ef79c",
   "metadata": {},
   "outputs": [],
   "source": [
    "# Read in data\n",
    "cc_df = pd.read_csv(\"C:\\\\Users\\\\mitth\\\\OneDrive\\\\Desktop\\\\ECA_blended_custom\\\\Reworked\\\\CC_STAID001860.txt\", delimiter=\",\")"
   ]
  },
  {
   "cell_type": "code",
   "execution_count": 3,
   "id": "27368e09",
   "metadata": {},
   "outputs": [
    {
     "data": {
      "text/html": [
       "<div>\n",
       "<style scoped>\n",
       "    .dataframe tbody tr th:only-of-type {\n",
       "        vertical-align: middle;\n",
       "    }\n",
       "\n",
       "    .dataframe tbody tr th {\n",
       "        vertical-align: top;\n",
       "    }\n",
       "\n",
       "    .dataframe thead th {\n",
       "        text-align: right;\n",
       "    }\n",
       "</style>\n",
       "<table border=\"1\" class=\"dataframe\">\n",
       "  <thead>\n",
       "    <tr style=\"text-align: right;\">\n",
       "      <th></th>\n",
       "      <th>SOUID</th>\n",
       "      <th>DATE</th>\n",
       "      <th>CC</th>\n",
       "      <th>Q_CC</th>\n",
       "    </tr>\n",
       "  </thead>\n",
       "  <tbody>\n",
       "    <tr>\n",
       "      <th>0</th>\n",
       "      <td>116440</td>\n",
       "      <td>19790101</td>\n",
       "      <td>2</td>\n",
       "      <td>0</td>\n",
       "    </tr>\n",
       "    <tr>\n",
       "      <th>1</th>\n",
       "      <td>116440</td>\n",
       "      <td>19790102</td>\n",
       "      <td>6</td>\n",
       "      <td>0</td>\n",
       "    </tr>\n",
       "    <tr>\n",
       "      <th>2</th>\n",
       "      <td>116440</td>\n",
       "      <td>19790103</td>\n",
       "      <td>5</td>\n",
       "      <td>0</td>\n",
       "    </tr>\n",
       "    <tr>\n",
       "      <th>3</th>\n",
       "      <td>116440</td>\n",
       "      <td>19790104</td>\n",
       "      <td>8</td>\n",
       "      <td>0</td>\n",
       "    </tr>\n",
       "    <tr>\n",
       "      <th>4</th>\n",
       "      <td>116440</td>\n",
       "      <td>19790105</td>\n",
       "      <td>6</td>\n",
       "      <td>0</td>\n",
       "    </tr>\n",
       "    <tr>\n",
       "      <th>...</th>\n",
       "      <td>...</td>\n",
       "      <td>...</td>\n",
       "      <td>...</td>\n",
       "      <td>...</td>\n",
       "    </tr>\n",
       "    <tr>\n",
       "      <th>16066</th>\n",
       "      <td>116440</td>\n",
       "      <td>20221227</td>\n",
       "      <td>6</td>\n",
       "      <td>0</td>\n",
       "    </tr>\n",
       "    <tr>\n",
       "      <th>16067</th>\n",
       "      <td>116440</td>\n",
       "      <td>20221228</td>\n",
       "      <td>8</td>\n",
       "      <td>0</td>\n",
       "    </tr>\n",
       "    <tr>\n",
       "      <th>16068</th>\n",
       "      <td>116440</td>\n",
       "      <td>20221229</td>\n",
       "      <td>4</td>\n",
       "      <td>0</td>\n",
       "    </tr>\n",
       "    <tr>\n",
       "      <th>16069</th>\n",
       "      <td>116440</td>\n",
       "      <td>20221230</td>\n",
       "      <td>7</td>\n",
       "      <td>0</td>\n",
       "    </tr>\n",
       "    <tr>\n",
       "      <th>16070</th>\n",
       "      <td>116440</td>\n",
       "      <td>20221231</td>\n",
       "      <td>8</td>\n",
       "      <td>0</td>\n",
       "    </tr>\n",
       "  </tbody>\n",
       "</table>\n",
       "<p>16071 rows × 4 columns</p>\n",
       "</div>"
      ],
      "text/plain": [
       "        SOUID      DATE     CC   Q_CC\n",
       "0      116440  19790101      2      0\n",
       "1      116440  19790102      6      0\n",
       "2      116440  19790103      5      0\n",
       "3      116440  19790104      8      0\n",
       "4      116440  19790105      6      0\n",
       "...       ...       ...    ...    ...\n",
       "16066  116440  20221227      6      0\n",
       "16067  116440  20221228      8      0\n",
       "16068  116440  20221229      4      0\n",
       "16069  116440  20221230      7      0\n",
       "16070  116440  20221231      8      0\n",
       "\n",
       "[16071 rows x 4 columns]"
      ]
     },
     "execution_count": 3,
     "metadata": {},
     "output_type": "execute_result"
    }
   ],
   "source": [
    "cc_df"
   ]
  },
  {
   "cell_type": "code",
   "execution_count": 4,
   "id": "fc3de094",
   "metadata": {},
   "outputs": [],
   "source": [
    "cc_df.columns = cc_df.columns.str.strip()"
   ]
  },
  {
   "cell_type": "code",
   "execution_count": 5,
   "id": "cbbc2163",
   "metadata": {},
   "outputs": [
    {
     "name": "stdout",
     "output_type": "stream",
     "text": [
      "<class 'pandas.core.frame.DataFrame'>\n",
      "RangeIndex: 16071 entries, 0 to 16070\n",
      "Data columns (total 4 columns):\n",
      " #   Column  Non-Null Count  Dtype\n",
      "---  ------  --------------  -----\n",
      " 0   SOUID   16071 non-null  int64\n",
      " 1   DATE    16071 non-null  int64\n",
      " 2   CC      16071 non-null  int64\n",
      " 3   Q_CC    16071 non-null  int64\n",
      "dtypes: int64(4)\n",
      "memory usage: 502.3 KB\n"
     ]
    }
   ],
   "source": [
    "cc_df.info()"
   ]
  },
  {
   "cell_type": "code",
   "execution_count": 6,
   "id": "b4413d11",
   "metadata": {},
   "outputs": [],
   "source": [
    "cc_df2 = cc_df.copy()"
   ]
  },
  {
   "cell_type": "code",
   "execution_count": 7,
   "id": "8b5be733",
   "metadata": {},
   "outputs": [
    {
     "name": "stdout",
     "output_type": "stream",
     "text": [
      "<class 'pandas.core.frame.DataFrame'>\n",
      "RangeIndex: 16071 entries, 0 to 16070\n",
      "Data columns (total 4 columns):\n",
      " #   Column  Non-Null Count  Dtype\n",
      "---  ------  --------------  -----\n",
      " 0   SOUID   16071 non-null  int64\n",
      " 1   DATE    16071 non-null  int64\n",
      " 2   CC      16071 non-null  int64\n",
      " 3   Q_CC    16071 non-null  int64\n",
      "dtypes: int64(4)\n",
      "memory usage: 502.3 KB\n"
     ]
    }
   ],
   "source": [
    "cc_df2.info()"
   ]
  },
  {
   "cell_type": "code",
   "execution_count": 8,
   "id": "a66aa81c",
   "metadata": {},
   "outputs": [],
   "source": [
    "columns_to_drop = ['SOUID', 'Q_CC']"
   ]
  },
  {
   "cell_type": "code",
   "execution_count": 9,
   "id": "a882eea2",
   "metadata": {
    "scrolled": false
   },
   "outputs": [],
   "source": [
    "cc_df2 = cc_df.drop(columns=columns_to_drop)"
   ]
  },
  {
   "cell_type": "code",
   "execution_count": 10,
   "id": "22496a85",
   "metadata": {},
   "outputs": [
    {
     "data": {
      "text/html": [
       "<div>\n",
       "<style scoped>\n",
       "    .dataframe tbody tr th:only-of-type {\n",
       "        vertical-align: middle;\n",
       "    }\n",
       "\n",
       "    .dataframe tbody tr th {\n",
       "        vertical-align: top;\n",
       "    }\n",
       "\n",
       "    .dataframe thead th {\n",
       "        text-align: right;\n",
       "    }\n",
       "</style>\n",
       "<table border=\"1\" class=\"dataframe\">\n",
       "  <thead>\n",
       "    <tr style=\"text-align: right;\">\n",
       "      <th></th>\n",
       "      <th>DATE</th>\n",
       "      <th>CC</th>\n",
       "    </tr>\n",
       "  </thead>\n",
       "  <tbody>\n",
       "    <tr>\n",
       "      <th>0</th>\n",
       "      <td>19790101</td>\n",
       "      <td>2</td>\n",
       "    </tr>\n",
       "    <tr>\n",
       "      <th>1</th>\n",
       "      <td>19790102</td>\n",
       "      <td>6</td>\n",
       "    </tr>\n",
       "    <tr>\n",
       "      <th>2</th>\n",
       "      <td>19790103</td>\n",
       "      <td>5</td>\n",
       "    </tr>\n",
       "    <tr>\n",
       "      <th>3</th>\n",
       "      <td>19790104</td>\n",
       "      <td>8</td>\n",
       "    </tr>\n",
       "    <tr>\n",
       "      <th>4</th>\n",
       "      <td>19790105</td>\n",
       "      <td>6</td>\n",
       "    </tr>\n",
       "    <tr>\n",
       "      <th>...</th>\n",
       "      <td>...</td>\n",
       "      <td>...</td>\n",
       "    </tr>\n",
       "    <tr>\n",
       "      <th>16066</th>\n",
       "      <td>20221227</td>\n",
       "      <td>6</td>\n",
       "    </tr>\n",
       "    <tr>\n",
       "      <th>16067</th>\n",
       "      <td>20221228</td>\n",
       "      <td>8</td>\n",
       "    </tr>\n",
       "    <tr>\n",
       "      <th>16068</th>\n",
       "      <td>20221229</td>\n",
       "      <td>4</td>\n",
       "    </tr>\n",
       "    <tr>\n",
       "      <th>16069</th>\n",
       "      <td>20221230</td>\n",
       "      <td>7</td>\n",
       "    </tr>\n",
       "    <tr>\n",
       "      <th>16070</th>\n",
       "      <td>20221231</td>\n",
       "      <td>8</td>\n",
       "    </tr>\n",
       "  </tbody>\n",
       "</table>\n",
       "<p>16071 rows × 2 columns</p>\n",
       "</div>"
      ],
      "text/plain": [
       "           DATE  CC\n",
       "0      19790101   2\n",
       "1      19790102   6\n",
       "2      19790103   5\n",
       "3      19790104   8\n",
       "4      19790105   6\n",
       "...         ...  ..\n",
       "16066  20221227   6\n",
       "16067  20221228   8\n",
       "16068  20221229   4\n",
       "16069  20221230   7\n",
       "16070  20221231   8\n",
       "\n",
       "[16071 rows x 2 columns]"
      ]
     },
     "execution_count": 10,
     "metadata": {},
     "output_type": "execute_result"
    }
   ],
   "source": [
    "cc_df2"
   ]
  },
  {
   "cell_type": "code",
   "execution_count": 11,
   "id": "2f974d90",
   "metadata": {},
   "outputs": [],
   "source": [
    "cc_df2['DATE'] = pd.to_datetime(cc_df['DATE'], format='%Y%m%d')"
   ]
  },
  {
   "cell_type": "code",
   "execution_count": 12,
   "id": "3c70cb84",
   "metadata": {},
   "outputs": [
    {
     "name": "stdout",
     "output_type": "stream",
     "text": [
      "<class 'pandas.core.frame.DataFrame'>\n",
      "RangeIndex: 16071 entries, 0 to 16070\n",
      "Data columns (total 2 columns):\n",
      " #   Column  Non-Null Count  Dtype         \n",
      "---  ------  --------------  -----         \n",
      " 0   DATE    16071 non-null  datetime64[ns]\n",
      " 1   CC      16071 non-null  int64         \n",
      "dtypes: datetime64[ns](1), int64(1)\n",
      "memory usage: 251.2 KB\n"
     ]
    }
   ],
   "source": [
    "cc_df2.info()"
   ]
  },
  {
   "cell_type": "code",
   "execution_count": 13,
   "id": "fe51baed",
   "metadata": {},
   "outputs": [
    {
     "data": {
      "text/html": [
       "<div>\n",
       "<style scoped>\n",
       "    .dataframe tbody tr th:only-of-type {\n",
       "        vertical-align: middle;\n",
       "    }\n",
       "\n",
       "    .dataframe tbody tr th {\n",
       "        vertical-align: top;\n",
       "    }\n",
       "\n",
       "    .dataframe thead th {\n",
       "        text-align: right;\n",
       "    }\n",
       "</style>\n",
       "<table border=\"1\" class=\"dataframe\">\n",
       "  <thead>\n",
       "    <tr style=\"text-align: right;\">\n",
       "      <th></th>\n",
       "      <th>DATE</th>\n",
       "      <th>CC</th>\n",
       "    </tr>\n",
       "  </thead>\n",
       "  <tbody>\n",
       "    <tr>\n",
       "      <th>0</th>\n",
       "      <td>1979-01-01</td>\n",
       "      <td>2</td>\n",
       "    </tr>\n",
       "    <tr>\n",
       "      <th>1</th>\n",
       "      <td>1979-01-02</td>\n",
       "      <td>6</td>\n",
       "    </tr>\n",
       "    <tr>\n",
       "      <th>2</th>\n",
       "      <td>1979-01-03</td>\n",
       "      <td>5</td>\n",
       "    </tr>\n",
       "    <tr>\n",
       "      <th>3</th>\n",
       "      <td>1979-01-04</td>\n",
       "      <td>8</td>\n",
       "    </tr>\n",
       "    <tr>\n",
       "      <th>4</th>\n",
       "      <td>1979-01-05</td>\n",
       "      <td>6</td>\n",
       "    </tr>\n",
       "    <tr>\n",
       "      <th>...</th>\n",
       "      <td>...</td>\n",
       "      <td>...</td>\n",
       "    </tr>\n",
       "    <tr>\n",
       "      <th>16066</th>\n",
       "      <td>2022-12-27</td>\n",
       "      <td>6</td>\n",
       "    </tr>\n",
       "    <tr>\n",
       "      <th>16067</th>\n",
       "      <td>2022-12-28</td>\n",
       "      <td>8</td>\n",
       "    </tr>\n",
       "    <tr>\n",
       "      <th>16068</th>\n",
       "      <td>2022-12-29</td>\n",
       "      <td>4</td>\n",
       "    </tr>\n",
       "    <tr>\n",
       "      <th>16069</th>\n",
       "      <td>2022-12-30</td>\n",
       "      <td>7</td>\n",
       "    </tr>\n",
       "    <tr>\n",
       "      <th>16070</th>\n",
       "      <td>2022-12-31</td>\n",
       "      <td>8</td>\n",
       "    </tr>\n",
       "  </tbody>\n",
       "</table>\n",
       "<p>16071 rows × 2 columns</p>\n",
       "</div>"
      ],
      "text/plain": [
       "            DATE  CC\n",
       "0     1979-01-01   2\n",
       "1     1979-01-02   6\n",
       "2     1979-01-03   5\n",
       "3     1979-01-04   8\n",
       "4     1979-01-05   6\n",
       "...          ...  ..\n",
       "16066 2022-12-27   6\n",
       "16067 2022-12-28   8\n",
       "16068 2022-12-29   4\n",
       "16069 2022-12-30   7\n",
       "16070 2022-12-31   8\n",
       "\n",
       "[16071 rows x 2 columns]"
      ]
     },
     "execution_count": 13,
     "metadata": {},
     "output_type": "execute_result"
    }
   ],
   "source": [
    "cc_df2"
   ]
  },
  {
   "cell_type": "code",
   "execution_count": 14,
   "id": "cddbb3c9",
   "metadata": {},
   "outputs": [
    {
     "data": {
      "text/plain": [
       "DATE    0\n",
       "CC      0\n",
       "dtype: int64"
      ]
     },
     "execution_count": 14,
     "metadata": {},
     "output_type": "execute_result"
    }
   ],
   "source": [
    "# Check for missing values\n",
    "cc_df2.isna().sum()"
   ]
  },
  {
   "cell_type": "code",
   "execution_count": 15,
   "id": "abf30dce",
   "metadata": {},
   "outputs": [
    {
     "name": "stdout",
     "output_type": "stream",
     "text": [
      "DATE    0\n",
      "CC      0\n",
      "dtype: int64\n"
     ]
    }
   ],
   "source": [
    "cc_df2.replace(-9999, pd.NA, inplace=True)\n",
    "\n",
    "# Count the occurrences of -9999 in each column\n",
    "missing_counts = cc_df2.eq(-9999).sum()\n",
    "\n",
    "# Print the counts\n",
    "print(missing_counts)"
   ]
  },
  {
   "cell_type": "code",
   "execution_count": 16,
   "id": "7c42b6b4",
   "metadata": {},
   "outputs": [
    {
     "name": "stdout",
     "output_type": "stream",
     "text": [
      "DATE    [1979-01-01 00:00:00, 1979-01-02 00:00:00, 197...\n",
      "CC                   [2, 6, 5, 8, 4, 7, 1, 3, <NA>, 0, 9]\n",
      "dtype: object\n"
     ]
    }
   ],
   "source": [
    "unique_values = cc_df2.apply(lambda x: x.unique())\n",
    "print(unique_values)"
   ]
  },
  {
   "cell_type": "code",
   "execution_count": 17,
   "id": "e6b9158a",
   "metadata": {},
   "outputs": [
    {
     "data": {
      "text/plain": [
       "DATE     0\n",
       "CC      18\n",
       "dtype: int64"
      ]
     },
     "execution_count": 17,
     "metadata": {},
     "output_type": "execute_result"
    }
   ],
   "source": [
    "# Check for missing values\n",
    "cc_df2.isna().sum()"
   ]
  },
  {
   "cell_type": "code",
   "execution_count": 18,
   "id": "bb8590b3",
   "metadata": {},
   "outputs": [
    {
     "data": {
      "image/png": "[encoded data removed]",
      "text/plain": [
       "<Figure size 1000x600 with 1 Axes>"
      ]
     },
     "metadata": {},
     "output_type": "display_data"
    }
   ],
   "source": [
    "# Let's graph out the missing cloudcover values and group them by month\n",
    "missing_dates = cc_df2[cc_df2['CC'].isnull()]['DATE']\n",
    "\n",
    "# Extract the month component from the date\n",
    "missing_months = missing_dates.dt.month\n",
    "\n",
    "# Count occurrences of missing cloudcover per month across all available years\n",
    "monthly_missing_counts = missing_months.value_counts().sort_index()\n",
    "\n",
    "# Mapping month numbers to month names\n",
    "months_mapping = {\n",
    "    1: 'January', 2: 'February', 3: 'March', 4: 'April',\n",
    "    5: 'May', 6: 'June', 7: 'July', 8: 'August',\n",
    "    9: 'September', 10: 'October', 11: 'November', 12: 'December'\n",
    "}\n",
    "monthly_missing_counts.index = monthly_missing_counts.index.map(months_mapping)\n",
    "\n",
    "# Plotting missing cloud cover counts for each month across all years\n",
    "plt.figure(figsize=(10, 6))\n",
    "monthly_missing_counts.plot(kind='bar', color='red')\n",
    "plt.title('Missing Cloud cover Counts by Month (January to December)')\n",
    "plt.xlabel('Month')\n",
    "plt.ylabel('Count')\n",
    "plt.xticks(rotation=45)  # Rotating x-axis labels for better visibility\n",
    "plt.show()"
   ]
  },
  {
   "cell_type": "code",
   "execution_count": 19,
   "id": "cea87f71",
   "metadata": {},
   "outputs": [
    {
     "data": {
      "image/png": "[encoded data removed]",
      "text/plain": [
       "<Figure size 1000x600 with 1 Axes>"
      ]
     },
     "metadata": {},
     "output_type": "display_data"
    }
   ],
   "source": [
    "# Filter rows where 'CC' (cloud cover) is not missing\n",
    "non_missing_dates = cc_df2[cc_df2['CC'].notnull()]['DATE']\n",
    "\n",
    "# Extract the month component from the date\n",
    "non_missing_months = non_missing_dates.dt.month\n",
    "\n",
    "# Plotting distribution of non-missing cloud cover values for each month across all years\n",
    "plt.figure(figsize=(10, 6))\n",
    "plt.hist(non_missing_months, bins=12, color='blue', alpha=0.7, edgecolor='black')\n",
    "plt.title('Distribution of Non-Missing Cloud Cover Values by Month (January to December)')\n",
    "plt.xlabel('Month')\n",
    "plt.ylabel('Count')\n",
    "plt.xticks(range(1, 13), list(months_mapping.values()), rotation=45)  # Use month names on x-axis\n",
    "plt.show()"
   ]
  },
  {
   "cell_type": "code",
   "execution_count": 20,
   "id": "5459522e",
   "metadata": {},
   "outputs": [
    {
     "data": {
      "image/png": "[encoded data removed]",
      "text/plain": [
       "<Figure size 1200x800 with 1 Axes>"
      ]
     },
     "metadata": {},
     "output_type": "display_data"
    }
   ],
   "source": [
    "# Filter rows where 'CC' (cloud cover) is not missing\n",
    "non_missing_data = cc_df2[cc_df2['CC'].notnull()]\n",
    "\n",
    "# Plotting distribution of non-missing cloud cover values for each month\n",
    "plt.figure(figsize=(12, 8))\n",
    "for month in range(1, 13):\n",
    "    plt.hist(\n",
    "        non_missing_data[non_missing_data['DATE'].dt.month == month]['CC'],\n",
    "        bins=range(10),\n",
    "        alpha=0.7,\n",
    "        label=months_mapping[month],\n",
    "        edgecolor='black'\n",
    "    )\n",
    "\n",
    "plt.title('Distribution of Non-Missing Cloud Cover Values by Month (0-9)')\n",
    "plt.xlabel('Cloud Cover')\n",
    "plt.ylabel('Count')\n",
    "plt.legend(title='Month')\n",
    "plt.show()"
   ]
  },
  {
   "cell_type": "code",
   "execution_count": 21,
   "id": "5c150d8e",
   "metadata": {},
   "outputs": [
    {
     "data": {
      "image/png": "[encoded data removed]",
      "text/plain": [
       "<Figure size 1500x1000 with 12 Axes>"
      ]
     },
     "metadata": {},
     "output_type": "display_data"
    }
   ],
   "source": [
    "# Filter rows where 'CC' (cloud cover) is not missing\n",
    "non_missing_data = cc_df2[cc_df2['CC'].notnull()]\n",
    "\n",
    "# Create subplots for each month\n",
    "fig, axes = plt.subplots(nrows=3, ncols=4, figsize=(15, 10))\n",
    "fig.suptitle('Distribution of Non-Missing Cloud Cover Values by Month (0-9)', y=1.02)\n",
    "\n",
    "for ax, month in zip(axes.flatten(), range(1, 13)):\n",
    "    data_for_month = non_missing_data[non_missing_data['DATE'].dt.month == month]['CC']\n",
    "    ax.hist(data_for_month, bins=range(10), alpha=0.7, edgecolor='black')\n",
    "    ax.set_title(months_mapping[month])\n",
    "    ax.set_xlabel('Cloud Cover')\n",
    "    ax.set_ylabel('Count')\n",
    "\n",
    "plt.tight_layout()\n",
    "plt.show()"
   ]
  },
  {
   "cell_type": "code",
   "execution_count": 22,
   "id": "be9c46fc",
   "metadata": {},
   "outputs": [
    {
     "data": {
      "image/png": "[encoded data removed]",
      "text/plain": [
       "<Figure size 1500x1000 with 12 Axes>"
      ]
     },
     "metadata": {},
     "output_type": "display_data"
    }
   ],
   "source": [
    "# Filter rows where 'CC' (cloud cover) is missing\n",
    "missing_data = cc_df2[cc_df2['CC'].isna()]\n",
    "\n",
    "# Create subplots for each month\n",
    "fig, axes = plt.subplots(nrows=3, ncols=4, figsize=(15, 10))\n",
    "fig.suptitle('Distribution of Missing Cloud Cover Values by Month', y=1.02)\n",
    "\n",
    "for ax, month in zip(axes.flatten(), range(1, 13)):\n",
    "    missing_data_for_month = missing_data[missing_data['DATE'].dt.month == month]['DATE']\n",
    "    ax.hist(missing_data_for_month.dt.day, bins=range(1, 32), alpha=0.7, edgecolor='black')\n",
    "    ax.set_title(months_mapping[month])\n",
    "    ax.set_xlabel('Day of Month')\n",
    "    ax.set_ylabel('Count')\n",
    "\n",
    "plt.tight_layout()\n",
    "plt.show()"
   ]
  },
  {
   "cell_type": "code",
   "execution_count": 23,
   "id": "3e36aa24",
   "metadata": {},
   "outputs": [
    {
     "data": {
      "text/html": [
       "<div>\n",
       "<style scoped>\n",
       "    .dataframe tbody tr th:only-of-type {\n",
       "        vertical-align: middle;\n",
       "    }\n",
       "\n",
       "    .dataframe tbody tr th {\n",
       "        vertical-align: top;\n",
       "    }\n",
       "\n",
       "    .dataframe thead th {\n",
       "        text-align: right;\n",
       "    }\n",
       "</style>\n",
       "<table border=\"1\" class=\"dataframe\">\n",
       "  <thead>\n",
       "    <tr style=\"text-align: right;\">\n",
       "      <th></th>\n",
       "      <th>DATE</th>\n",
       "      <th>CC</th>\n",
       "    </tr>\n",
       "  </thead>\n",
       "  <tbody>\n",
       "  </tbody>\n",
       "</table>\n",
       "</div>"
      ],
      "text/plain": [
       "Empty DataFrame\n",
       "Columns: [DATE, CC]\n",
       "Index: []"
      ]
     },
     "execution_count": 23,
     "metadata": {},
     "output_type": "execute_result"
    }
   ],
   "source": [
    "cc_df2.loc[np.where(cc_df2['DATE'].duplicated())[0]]"
   ]
  },
  {
   "cell_type": "markdown",
   "id": "b5014965",
   "metadata": {},
   "source": [
    "## HU"
   ]
  },
  {
   "cell_type": "code",
   "execution_count": 24,
   "id": "c23b2bce",
   "metadata": {},
   "outputs": [],
   "source": [
    "# Read in data\n",
    "hu_df = pd.read_csv(\"C:\\\\Users\\\\mitth\\\\OneDrive\\\\Desktop\\\\ECA_blended_custom\\\\Reworked\\\\HU_STAID001860.txt\", delimiter=\",\")"
   ]
  },
  {
   "cell_type": "code",
   "execution_count": 25,
   "id": "4e3cf7e5",
   "metadata": {},
   "outputs": [
    {
     "data": {
      "text/html": [
       "<div>\n",
       "<style scoped>\n",
       "    .dataframe tbody tr th:only-of-type {\n",
       "        vertical-align: middle;\n",
       "    }\n",
       "\n",
       "    .dataframe tbody tr th {\n",
       "        vertical-align: top;\n",
       "    }\n",
       "\n",
       "    .dataframe thead th {\n",
       "        text-align: right;\n",
       "    }\n",
       "</style>\n",
       "<table border=\"1\" class=\"dataframe\">\n",
       "  <thead>\n",
       "    <tr style=\"text-align: right;\">\n",
       "      <th></th>\n",
       "      <th>SOUID</th>\n",
       "      <th>DATE</th>\n",
       "      <th>HU</th>\n",
       "      <th>Q_HU</th>\n",
       "    </tr>\n",
       "  </thead>\n",
       "  <tbody>\n",
       "    <tr>\n",
       "      <th>0</th>\n",
       "      <td>116438</td>\n",
       "      <td>19790101</td>\n",
       "      <td>83</td>\n",
       "      <td>0</td>\n",
       "    </tr>\n",
       "    <tr>\n",
       "      <th>1</th>\n",
       "      <td>116438</td>\n",
       "      <td>19790102</td>\n",
       "      <td>76</td>\n",
       "      <td>0</td>\n",
       "    </tr>\n",
       "    <tr>\n",
       "      <th>2</th>\n",
       "      <td>116438</td>\n",
       "      <td>19790103</td>\n",
       "      <td>86</td>\n",
       "      <td>0</td>\n",
       "    </tr>\n",
       "    <tr>\n",
       "      <th>3</th>\n",
       "      <td>116438</td>\n",
       "      <td>19790104</td>\n",
       "      <td>68</td>\n",
       "      <td>0</td>\n",
       "    </tr>\n",
       "    <tr>\n",
       "      <th>4</th>\n",
       "      <td>116438</td>\n",
       "      <td>19790105</td>\n",
       "      <td>73</td>\n",
       "      <td>0</td>\n",
       "    </tr>\n",
       "  </tbody>\n",
       "</table>\n",
       "</div>"
      ],
      "text/plain": [
       "    SOUID      DATE     HU   Q_HU\n",
       "0  116438  19790101     83      0\n",
       "1  116438  19790102     76      0\n",
       "2  116438  19790103     86      0\n",
       "3  116438  19790104     68      0\n",
       "4  116438  19790105     73      0"
      ]
     },
     "execution_count": 25,
     "metadata": {},
     "output_type": "execute_result"
    }
   ],
   "source": [
    "hu_df.head()"
   ]
  },
  {
   "cell_type": "code",
   "execution_count": 26,
   "id": "4b94045a",
   "metadata": {},
   "outputs": [
    {
     "name": "stdout",
     "output_type": "stream",
     "text": [
      "<class 'pandas.core.frame.DataFrame'>\n",
      "RangeIndex: 16071 entries, 0 to 16070\n",
      "Data columns (total 4 columns):\n",
      " #   Column    Non-Null Count  Dtype\n",
      "---  ------    --------------  -----\n",
      " 0    SOUID    16071 non-null  int64\n",
      " 1       DATE  16071 non-null  int64\n",
      " 2      HU     16071 non-null  int64\n",
      " 3    Q_HU     16071 non-null  int64\n",
      "dtypes: int64(4)\n",
      "memory usage: 502.3 KB\n"
     ]
    }
   ],
   "source": [
    "hu_df.info()"
   ]
  },
  {
   "cell_type": "code",
   "execution_count": 27,
   "id": "ff44624d",
   "metadata": {},
   "outputs": [],
   "source": [
    "hu_df.columns = hu_df.columns.str.strip()"
   ]
  },
  {
   "cell_type": "code",
   "execution_count": 28,
   "id": "9e0b0fab",
   "metadata": {},
   "outputs": [
    {
     "name": "stdout",
     "output_type": "stream",
     "text": [
      "<class 'pandas.core.frame.DataFrame'>\n",
      "RangeIndex: 16071 entries, 0 to 16070\n",
      "Data columns (total 4 columns):\n",
      " #   Column  Non-Null Count  Dtype\n",
      "---  ------  --------------  -----\n",
      " 0   SOUID   16071 non-null  int64\n",
      " 1   DATE    16071 non-null  int64\n",
      " 2   HU      16071 non-null  int64\n",
      " 3   Q_HU    16071 non-null  int64\n",
      "dtypes: int64(4)\n",
      "memory usage: 502.3 KB\n"
     ]
    }
   ],
   "source": [
    "hu_df.info()"
   ]
  },
  {
   "cell_type": "code",
   "execution_count": 29,
   "id": "0c4fd494",
   "metadata": {},
   "outputs": [],
   "source": [
    "hu_df2 = hu_df.copy()"
   ]
  },
  {
   "cell_type": "code",
   "execution_count": 30,
   "id": "142b48fd",
   "metadata": {},
   "outputs": [],
   "source": [
    "columns_to_drop = ['SOUID', 'Q_HU']"
   ]
  },
  {
   "cell_type": "code",
   "execution_count": 31,
   "id": "9f8eb42e",
   "metadata": {},
   "outputs": [],
   "source": [
    "hu_df2 = hu_df.drop(columns=columns_to_drop)"
   ]
  },
  {
   "cell_type": "code",
   "execution_count": 32,
   "id": "18b57449",
   "metadata": {},
   "outputs": [],
   "source": [
    "hu_df2['DATE'] = pd.to_datetime(hu_df['DATE'], format='%Y%m%d')"
   ]
  },
  {
   "cell_type": "code",
   "execution_count": 33,
   "id": "18a6418c",
   "metadata": {},
   "outputs": [
    {
     "data": {
      "text/plain": [
       "DATE    0\n",
       "HU      0\n",
       "dtype: int64"
      ]
     },
     "execution_count": 33,
     "metadata": {},
     "output_type": "execute_result"
    }
   ],
   "source": [
    "# Check for missing values\n",
    "hu_df2.isna().sum()"
   ]
  },
  {
   "cell_type": "code",
   "execution_count": 34,
   "id": "27b8d767",
   "metadata": {},
   "outputs": [
    {
     "name": "stdout",
     "output_type": "stream",
     "text": [
      "DATE    0\n",
      "HU      0\n",
      "dtype: int64\n"
     ]
    }
   ],
   "source": [
    "hu_df2.replace(-9999, pd.NA, inplace=True)\n",
    "\n",
    "# Count the occurrences of -9999 in each column\n",
    "missing_counts = hu_df2.eq(-9999).sum()\n",
    "\n",
    "# Print the counts\n",
    "print(missing_counts)"
   ]
  },
  {
   "cell_type": "code",
   "execution_count": 35,
   "id": "c8b3c838",
   "metadata": {},
   "outputs": [
    {
     "data": {
      "text/plain": [
       "DATE     0\n",
       "HU      57\n",
       "dtype: int64"
      ]
     },
     "execution_count": 35,
     "metadata": {},
     "output_type": "execute_result"
    }
   ],
   "source": [
    "# Check for missing values\n",
    "hu_df2.isna().sum()"
   ]
  },
  {
   "cell_type": "code",
   "execution_count": 36,
   "id": "24d67057",
   "metadata": {},
   "outputs": [
    {
     "data": {
      "text/html": [
       "<div>\n",
       "<style scoped>\n",
       "    .dataframe tbody tr th:only-of-type {\n",
       "        vertical-align: middle;\n",
       "    }\n",
       "\n",
       "    .dataframe tbody tr th {\n",
       "        vertical-align: top;\n",
       "    }\n",
       "\n",
       "    .dataframe thead th {\n",
       "        text-align: right;\n",
       "    }\n",
       "</style>\n",
       "<table border=\"1\" class=\"dataframe\">\n",
       "  <thead>\n",
       "    <tr style=\"text-align: right;\">\n",
       "      <th></th>\n",
       "      <th>DATE</th>\n",
       "      <th>HU</th>\n",
       "    </tr>\n",
       "  </thead>\n",
       "  <tbody>\n",
       "  </tbody>\n",
       "</table>\n",
       "</div>"
      ],
      "text/plain": [
       "Empty DataFrame\n",
       "Columns: [DATE, HU]\n",
       "Index: []"
      ]
     },
     "execution_count": 36,
     "metadata": {},
     "output_type": "execute_result"
    }
   ],
   "source": [
    "hu_df2.loc[np.where(hu_df2['DATE'].duplicated())[0]]"
   ]
  },
  {
   "cell_type": "markdown",
   "id": "2caf51c1",
   "metadata": {},
   "source": [
    "## QQ"
   ]
  },
  {
   "cell_type": "code",
   "execution_count": 37,
   "id": "86afe57c",
   "metadata": {},
   "outputs": [],
   "source": [
    "# Read in data\n",
    "qq_df = pd.read_csv(\"C:\\\\Users\\\\mitth\\\\OneDrive\\\\Desktop\\\\ECA_blended_custom\\\\Reworked\\\\QQ_STAID001860.txt\", delimiter=\",\")"
   ]
  },
  {
   "cell_type": "code",
   "execution_count": 38,
   "id": "4a6ac5d7",
   "metadata": {},
   "outputs": [
    {
     "data": {
      "text/html": [
       "<div>\n",
       "<style scoped>\n",
       "    .dataframe tbody tr th:only-of-type {\n",
       "        vertical-align: middle;\n",
       "    }\n",
       "\n",
       "    .dataframe tbody tr th {\n",
       "        vertical-align: top;\n",
       "    }\n",
       "\n",
       "    .dataframe thead th {\n",
       "        text-align: right;\n",
       "    }\n",
       "</style>\n",
       "<table border=\"1\" class=\"dataframe\">\n",
       "  <thead>\n",
       "    <tr style=\"text-align: right;\">\n",
       "      <th></th>\n",
       "      <th>SOUID</th>\n",
       "      <th>DATE</th>\n",
       "      <th>QQ</th>\n",
       "      <th>Q_QQ</th>\n",
       "    </tr>\n",
       "  </thead>\n",
       "  <tbody>\n",
       "    <tr>\n",
       "      <th>0</th>\n",
       "      <td>210187</td>\n",
       "      <td>19790101</td>\n",
       "      <td>52</td>\n",
       "      <td>0</td>\n",
       "    </tr>\n",
       "    <tr>\n",
       "      <th>1</th>\n",
       "      <td>210187</td>\n",
       "      <td>19790102</td>\n",
       "      <td>27</td>\n",
       "      <td>0</td>\n",
       "    </tr>\n",
       "    <tr>\n",
       "      <th>2</th>\n",
       "      <td>210187</td>\n",
       "      <td>19790103</td>\n",
       "      <td>13</td>\n",
       "      <td>0</td>\n",
       "    </tr>\n",
       "    <tr>\n",
       "      <th>3</th>\n",
       "      <td>210187</td>\n",
       "      <td>19790104</td>\n",
       "      <td>13</td>\n",
       "      <td>0</td>\n",
       "    </tr>\n",
       "    <tr>\n",
       "      <th>4</th>\n",
       "      <td>210187</td>\n",
       "      <td>19790105</td>\n",
       "      <td>29</td>\n",
       "      <td>0</td>\n",
       "    </tr>\n",
       "  </tbody>\n",
       "</table>\n",
       "</div>"
      ],
      "text/plain": [
       "    SOUID      DATE     QQ   Q_QQ\n",
       "0  210187  19790101     52      0\n",
       "1  210187  19790102     27      0\n",
       "2  210187  19790103     13      0\n",
       "3  210187  19790104     13      0\n",
       "4  210187  19790105     29      0"
      ]
     },
     "execution_count": 38,
     "metadata": {},
     "output_type": "execute_result"
    }
   ],
   "source": [
    "qq_df.head()"
   ]
  },
  {
   "cell_type": "code",
   "execution_count": 39,
   "id": "9c20ae9e",
   "metadata": {},
   "outputs": [
    {
     "name": "stdout",
     "output_type": "stream",
     "text": [
      "<class 'pandas.core.frame.DataFrame'>\n",
      "RangeIndex: 16071 entries, 0 to 16070\n",
      "Data columns (total 4 columns):\n",
      " #   Column    Non-Null Count  Dtype\n",
      "---  ------    --------------  -----\n",
      " 0    SOUID    16071 non-null  int64\n",
      " 1       DATE  16071 non-null  int64\n",
      " 2      QQ     16071 non-null  int64\n",
      " 3    Q_QQ     16071 non-null  int64\n",
      "dtypes: int64(4)\n",
      "memory usage: 502.3 KB\n"
     ]
    }
   ],
   "source": [
    "qq_df.info()"
   ]
  },
  {
   "cell_type": "code",
   "execution_count": 40,
   "id": "f41574f4",
   "metadata": {},
   "outputs": [],
   "source": [
    "qq_df.columns = qq_df.columns.str.strip()"
   ]
  },
  {
   "cell_type": "code",
   "execution_count": 41,
   "id": "bfe7767c",
   "metadata": {},
   "outputs": [
    {
     "name": "stdout",
     "output_type": "stream",
     "text": [
      "<class 'pandas.core.frame.DataFrame'>\n",
      "RangeIndex: 16071 entries, 0 to 16070\n",
      "Data columns (total 4 columns):\n",
      " #   Column  Non-Null Count  Dtype\n",
      "---  ------  --------------  -----\n",
      " 0   SOUID   16071 non-null  int64\n",
      " 1   DATE    16071 non-null  int64\n",
      " 2   QQ      16071 non-null  int64\n",
      " 3   Q_QQ    16071 non-null  int64\n",
      "dtypes: int64(4)\n",
      "memory usage: 502.3 KB\n"
     ]
    }
   ],
   "source": [
    "qq_df.info()"
   ]
  },
  {
   "cell_type": "code",
   "execution_count": 42,
   "id": "e772270a",
   "metadata": {},
   "outputs": [],
   "source": [
    "qq_df2 = qq_df.copy()"
   ]
  },
  {
   "cell_type": "code",
   "execution_count": 43,
   "id": "bfefbb65",
   "metadata": {},
   "outputs": [],
   "source": [
    "columns_to_drop = ['SOUID', 'Q_QQ']"
   ]
  },
  {
   "cell_type": "code",
   "execution_count": 44,
   "id": "17462da4",
   "metadata": {},
   "outputs": [],
   "source": [
    "qq_df2 = qq_df.drop(columns=columns_to_drop)"
   ]
  },
  {
   "cell_type": "code",
   "execution_count": 45,
   "id": "27b68ab1",
   "metadata": {},
   "outputs": [],
   "source": [
    "qq_df2['DATE'] = pd.to_datetime(qq_df['DATE'], format='%Y%m%d')"
   ]
  },
  {
   "cell_type": "code",
   "execution_count": 46,
   "id": "b2118009",
   "metadata": {},
   "outputs": [
    {
     "data": {
      "text/plain": [
       "DATE    0\n",
       "QQ      0\n",
       "dtype: int64"
      ]
     },
     "execution_count": 46,
     "metadata": {},
     "output_type": "execute_result"
    }
   ],
   "source": [
    "# Check for missing values\n",
    "qq_df2.isna().sum()"
   ]
  },
  {
   "cell_type": "code",
   "execution_count": 47,
   "id": "1dc3122a",
   "metadata": {},
   "outputs": [
    {
     "name": "stdout",
     "output_type": "stream",
     "text": [
      "DATE    0\n",
      "QQ      0\n",
      "dtype: int64\n"
     ]
    }
   ],
   "source": [
    "qq_df2.replace(-9999, pd.NA, inplace=True)\n",
    "\n",
    "# Count the occurrences of -9999 in each column\n",
    "missing_counts = qq_df2.eq(-9999).sum()\n",
    "\n",
    "# Print the counts\n",
    "print(missing_counts)"
   ]
  },
  {
   "cell_type": "code",
   "execution_count": 48,
   "id": "75ca7047",
   "metadata": {},
   "outputs": [
    {
     "data": {
      "text/plain": [
       "DATE     0\n",
       "QQ      25\n",
       "dtype: int64"
      ]
     },
     "execution_count": 48,
     "metadata": {},
     "output_type": "execute_result"
    }
   ],
   "source": [
    "# Check for missing values\n",
    "qq_df2.isna().sum()"
   ]
  },
  {
   "cell_type": "code",
   "execution_count": 49,
   "id": "1a71e2be",
   "metadata": {},
   "outputs": [
    {
     "data": {
      "text/html": [
       "<div>\n",
       "<style scoped>\n",
       "    .dataframe tbody tr th:only-of-type {\n",
       "        vertical-align: middle;\n",
       "    }\n",
       "\n",
       "    .dataframe tbody tr th {\n",
       "        vertical-align: top;\n",
       "    }\n",
       "\n",
       "    .dataframe thead th {\n",
       "        text-align: right;\n",
       "    }\n",
       "</style>\n",
       "<table border=\"1\" class=\"dataframe\">\n",
       "  <thead>\n",
       "    <tr style=\"text-align: right;\">\n",
       "      <th></th>\n",
       "      <th>DATE</th>\n",
       "      <th>QQ</th>\n",
       "    </tr>\n",
       "  </thead>\n",
       "  <tbody>\n",
       "  </tbody>\n",
       "</table>\n",
       "</div>"
      ],
      "text/plain": [
       "Empty DataFrame\n",
       "Columns: [DATE, QQ]\n",
       "Index: []"
      ]
     },
     "execution_count": 49,
     "metadata": {},
     "output_type": "execute_result"
    }
   ],
   "source": [
    "qq_df2.loc[np.where(qq_df2['DATE'].duplicated())[0]]"
   ]
  },
  {
   "cell_type": "markdown",
   "id": "37de9416",
   "metadata": {},
   "source": [
    "## TX"
   ]
  },
  {
   "cell_type": "code",
   "execution_count": 50,
   "id": "06c0af5d",
   "metadata": {},
   "outputs": [],
   "source": [
    "# Read in data\n",
    "tx_df = pd.read_csv(\"C:\\\\Users\\\\mitth\\\\OneDrive\\\\Desktop\\\\ECA_blended_custom\\\\Reworked\\\\TX_STAID001860.txt\", delimiter=\",\")"
   ]
  },
  {
   "cell_type": "code",
   "execution_count": 51,
   "id": "301314eb",
   "metadata": {},
   "outputs": [
    {
     "data": {
      "text/html": [
       "<div>\n",
       "<style scoped>\n",
       "    .dataframe tbody tr th:only-of-type {\n",
       "        vertical-align: middle;\n",
       "    }\n",
       "\n",
       "    .dataframe tbody tr th {\n",
       "        vertical-align: top;\n",
       "    }\n",
       "\n",
       "    .dataframe thead th {\n",
       "        text-align: right;\n",
       "    }\n",
       "</style>\n",
       "<table border=\"1\" class=\"dataframe\">\n",
       "  <thead>\n",
       "    <tr style=\"text-align: right;\">\n",
       "      <th></th>\n",
       "      <th>SOUID</th>\n",
       "      <th>DATE</th>\n",
       "      <th>TX</th>\n",
       "      <th>Q_TX</th>\n",
       "    </tr>\n",
       "  </thead>\n",
       "  <tbody>\n",
       "    <tr>\n",
       "      <th>0</th>\n",
       "      <td>105838</td>\n",
       "      <td>19790101</td>\n",
       "      <td>23</td>\n",
       "      <td>0</td>\n",
       "    </tr>\n",
       "    <tr>\n",
       "      <th>1</th>\n",
       "      <td>105838</td>\n",
       "      <td>19790102</td>\n",
       "      <td>16</td>\n",
       "      <td>0</td>\n",
       "    </tr>\n",
       "    <tr>\n",
       "      <th>2</th>\n",
       "      <td>105838</td>\n",
       "      <td>19790103</td>\n",
       "      <td>13</td>\n",
       "      <td>0</td>\n",
       "    </tr>\n",
       "    <tr>\n",
       "      <th>3</th>\n",
       "      <td>105838</td>\n",
       "      <td>19790104</td>\n",
       "      <td>-3</td>\n",
       "      <td>0</td>\n",
       "    </tr>\n",
       "    <tr>\n",
       "      <th>4</th>\n",
       "      <td>105838</td>\n",
       "      <td>19790105</td>\n",
       "      <td>56</td>\n",
       "      <td>0</td>\n",
       "    </tr>\n",
       "  </tbody>\n",
       "</table>\n",
       "</div>"
      ],
      "text/plain": [
       "    SOUID      DATE     TX   Q_TX\n",
       "0  105838  19790101     23      0\n",
       "1  105838  19790102     16      0\n",
       "2  105838  19790103     13      0\n",
       "3  105838  19790104     -3      0\n",
       "4  105838  19790105     56      0"
      ]
     },
     "execution_count": 51,
     "metadata": {},
     "output_type": "execute_result"
    }
   ],
   "source": [
    "tx_df.head()"
   ]
  },
  {
   "cell_type": "code",
   "execution_count": 52,
   "id": "654fa839",
   "metadata": {},
   "outputs": [
    {
     "name": "stdout",
     "output_type": "stream",
     "text": [
      "<class 'pandas.core.frame.DataFrame'>\n",
      "RangeIndex: 16071 entries, 0 to 16070\n",
      "Data columns (total 4 columns):\n",
      " #   Column    Non-Null Count  Dtype\n",
      "---  ------    --------------  -----\n",
      " 0    SOUID    16071 non-null  int64\n",
      " 1       DATE  16071 non-null  int64\n",
      " 2      TX     16071 non-null  int64\n",
      " 3    Q_TX     16071 non-null  int64\n",
      "dtypes: int64(4)\n",
      "memory usage: 502.3 KB\n"
     ]
    }
   ],
   "source": [
    "tx_df.info()"
   ]
  },
  {
   "cell_type": "code",
   "execution_count": 53,
   "id": "0ddaefc9",
   "metadata": {},
   "outputs": [],
   "source": [
    "tx_df.columns = tx_df.columns.str.strip()"
   ]
  },
  {
   "cell_type": "code",
   "execution_count": 54,
   "id": "e778d6d9",
   "metadata": {},
   "outputs": [
    {
     "name": "stdout",
     "output_type": "stream",
     "text": [
      "<class 'pandas.core.frame.DataFrame'>\n",
      "RangeIndex: 16071 entries, 0 to 16070\n",
      "Data columns (total 4 columns):\n",
      " #   Column  Non-Null Count  Dtype\n",
      "---  ------  --------------  -----\n",
      " 0   SOUID   16071 non-null  int64\n",
      " 1   DATE    16071 non-null  int64\n",
      " 2   TX      16071 non-null  int64\n",
      " 3   Q_TX    16071 non-null  int64\n",
      "dtypes: int64(4)\n",
      "memory usage: 502.3 KB\n"
     ]
    }
   ],
   "source": [
    "tx_df.info()"
   ]
  },
  {
   "cell_type": "code",
   "execution_count": 55,
   "id": "9ea8ac34",
   "metadata": {},
   "outputs": [],
   "source": [
    "tx_df2 = tx_df.copy()"
   ]
  },
  {
   "cell_type": "code",
   "execution_count": 56,
   "id": "5baccd5b",
   "metadata": {},
   "outputs": [],
   "source": [
    "columns_to_drop = ['SOUID', 'Q_TX']"
   ]
  },
  {
   "cell_type": "code",
   "execution_count": 57,
   "id": "09cf1d17",
   "metadata": {},
   "outputs": [],
   "source": [
    "tx_df2 = tx_df.drop(columns=columns_to_drop)"
   ]
  },
  {
   "cell_type": "code",
   "execution_count": 58,
   "id": "4c62bd8f",
   "metadata": {},
   "outputs": [],
   "source": [
    "tx_df2['DATE'] = pd.to_datetime(tx_df['DATE'], format='%Y%m%d')"
   ]
  },
  {
   "cell_type": "code",
   "execution_count": 59,
   "id": "3de3743e",
   "metadata": {},
   "outputs": [
    {
     "data": {
      "text/plain": [
       "DATE    0\n",
       "TX      0\n",
       "dtype: int64"
      ]
     },
     "execution_count": 59,
     "metadata": {},
     "output_type": "execute_result"
    }
   ],
   "source": [
    "# Check for missing values\n",
    "tx_df2.isna().sum()"
   ]
  },
  {
   "cell_type": "code",
   "execution_count": 60,
   "id": "9c58a439",
   "metadata": {},
   "outputs": [
    {
     "name": "stdout",
     "output_type": "stream",
     "text": [
      "DATE    0\n",
      "TX      0\n",
      "dtype: int64\n"
     ]
    }
   ],
   "source": [
    "tx_df2.replace(-9999, pd.NA, inplace=True)\n",
    "\n",
    "# Count the occurrences of -9999 in each column\n",
    "missing_counts = tx_df2.eq(-9999).sum()\n",
    "\n",
    "# Print the counts\n",
    "print(missing_counts)"
   ]
  },
  {
   "cell_type": "code",
   "execution_count": 61,
   "id": "51d6f26e",
   "metadata": {},
   "outputs": [
    {
     "data": {
      "text/plain": [
       "DATE    0\n",
       "TX      0\n",
       "dtype: int64"
      ]
     },
     "execution_count": 61,
     "metadata": {},
     "output_type": "execute_result"
    }
   ],
   "source": [
    "# Check for missing values\n",
    "tx_df2.isna().sum()"
   ]
  },
  {
   "cell_type": "code",
   "execution_count": 62,
   "id": "1920ebde",
   "metadata": {},
   "outputs": [
    {
     "name": "stdout",
     "output_type": "stream",
     "text": [
      "DATE    [1979-01-01 00:00:00, 1979-01-02 00:00:00, 197...\n",
      "TX      [23, 16, 13, -3, 56, 83, 85, 58, 52, 49, 29, 2...\n",
      "dtype: object\n"
     ]
    }
   ],
   "source": [
    "unique_values = tx_df2.apply(lambda x: x.unique())\n",
    "print(unique_values)"
   ]
  },
  {
   "cell_type": "code",
   "execution_count": 63,
   "id": "b25b7137",
   "metadata": {},
   "outputs": [],
   "source": [
    "tx_df2['TX'] = tx_df['TX'] * 0.1"
   ]
  },
  {
   "cell_type": "code",
   "execution_count": 64,
   "id": "f8c18fa5",
   "metadata": {},
   "outputs": [
    {
     "data": {
      "text/html": [
       "<div>\n",
       "<style scoped>\n",
       "    .dataframe tbody tr th:only-of-type {\n",
       "        vertical-align: middle;\n",
       "    }\n",
       "\n",
       "    .dataframe tbody tr th {\n",
       "        vertical-align: top;\n",
       "    }\n",
       "\n",
       "    .dataframe thead th {\n",
       "        text-align: right;\n",
       "    }\n",
       "</style>\n",
       "<table border=\"1\" class=\"dataframe\">\n",
       "  <thead>\n",
       "    <tr style=\"text-align: right;\">\n",
       "      <th></th>\n",
       "      <th>DATE</th>\n",
       "      <th>TX</th>\n",
       "    </tr>\n",
       "  </thead>\n",
       "  <tbody>\n",
       "    <tr>\n",
       "      <th>0</th>\n",
       "      <td>1979-01-01</td>\n",
       "      <td>2.3</td>\n",
       "    </tr>\n",
       "    <tr>\n",
       "      <th>1</th>\n",
       "      <td>1979-01-02</td>\n",
       "      <td>1.6</td>\n",
       "    </tr>\n",
       "    <tr>\n",
       "      <th>2</th>\n",
       "      <td>1979-01-03</td>\n",
       "      <td>1.3</td>\n",
       "    </tr>\n",
       "    <tr>\n",
       "      <th>3</th>\n",
       "      <td>1979-01-04</td>\n",
       "      <td>-0.3</td>\n",
       "    </tr>\n",
       "    <tr>\n",
       "      <th>4</th>\n",
       "      <td>1979-01-05</td>\n",
       "      <td>5.6</td>\n",
       "    </tr>\n",
       "    <tr>\n",
       "      <th>...</th>\n",
       "      <td>...</td>\n",
       "      <td>...</td>\n",
       "    </tr>\n",
       "    <tr>\n",
       "      <th>16066</th>\n",
       "      <td>2022-12-27</td>\n",
       "      <td>12.0</td>\n",
       "    </tr>\n",
       "    <tr>\n",
       "      <th>16067</th>\n",
       "      <td>2022-12-28</td>\n",
       "      <td>9.8</td>\n",
       "    </tr>\n",
       "    <tr>\n",
       "      <th>16068</th>\n",
       "      <td>2022-12-29</td>\n",
       "      <td>14.1</td>\n",
       "    </tr>\n",
       "    <tr>\n",
       "      <th>16069</th>\n",
       "      <td>2022-12-30</td>\n",
       "      <td>14.0</td>\n",
       "    </tr>\n",
       "    <tr>\n",
       "      <th>16070</th>\n",
       "      <td>2022-12-31</td>\n",
       "      <td>12.3</td>\n",
       "    </tr>\n",
       "  </tbody>\n",
       "</table>\n",
       "<p>16071 rows × 2 columns</p>\n",
       "</div>"
      ],
      "text/plain": [
       "            DATE    TX\n",
       "0     1979-01-01   2.3\n",
       "1     1979-01-02   1.6\n",
       "2     1979-01-03   1.3\n",
       "3     1979-01-04  -0.3\n",
       "4     1979-01-05   5.6\n",
       "...          ...   ...\n",
       "16066 2022-12-27  12.0\n",
       "16067 2022-12-28   9.8\n",
       "16068 2022-12-29  14.1\n",
       "16069 2022-12-30  14.0\n",
       "16070 2022-12-31  12.3\n",
       "\n",
       "[16071 rows x 2 columns]"
      ]
     },
     "execution_count": 64,
     "metadata": {},
     "output_type": "execute_result"
    }
   ],
   "source": [
    "tx_df2"
   ]
  },
  {
   "cell_type": "code",
   "execution_count": 65,
   "id": "d532f33b",
   "metadata": {},
   "outputs": [
    {
     "data": {
      "text/html": [
       "<div>\n",
       "<style scoped>\n",
       "    .dataframe tbody tr th:only-of-type {\n",
       "        vertical-align: middle;\n",
       "    }\n",
       "\n",
       "    .dataframe tbody tr th {\n",
       "        vertical-align: top;\n",
       "    }\n",
       "\n",
       "    .dataframe thead th {\n",
       "        text-align: right;\n",
       "    }\n",
       "</style>\n",
       "<table border=\"1\" class=\"dataframe\">\n",
       "  <thead>\n",
       "    <tr style=\"text-align: right;\">\n",
       "      <th></th>\n",
       "      <th>DATE</th>\n",
       "      <th>TX</th>\n",
       "    </tr>\n",
       "  </thead>\n",
       "  <tbody>\n",
       "  </tbody>\n",
       "</table>\n",
       "</div>"
      ],
      "text/plain": [
       "Empty DataFrame\n",
       "Columns: [DATE, TX]\n",
       "Index: []"
      ]
     },
     "execution_count": 65,
     "metadata": {},
     "output_type": "execute_result"
    }
   ],
   "source": [
    "tx_df2.loc[np.where(tx_df2['DATE'].duplicated())[0]]"
   ]
  },
  {
   "cell_type": "markdown",
   "id": "1cf5294c",
   "metadata": {},
   "source": [
    "## TG"
   ]
  },
  {
   "cell_type": "code",
   "execution_count": 66,
   "id": "a199b709",
   "metadata": {},
   "outputs": [],
   "source": [
    "# Read in data\n",
    "tg_df = pd.read_csv(\"C:\\\\Users\\\\mitth\\\\OneDrive\\\\Desktop\\\\ECA_blended_custom\\\\Reworked\\\\TG_STAID001860.txt\", delimiter=\",\")"
   ]
  },
  {
   "cell_type": "code",
   "execution_count": 67,
   "id": "31845cb2",
   "metadata": {},
   "outputs": [
    {
     "data": {
      "text/html": [
       "<div>\n",
       "<style scoped>\n",
       "    .dataframe tbody tr th:only-of-type {\n",
       "        vertical-align: middle;\n",
       "    }\n",
       "\n",
       "    .dataframe tbody tr th {\n",
       "        vertical-align: top;\n",
       "    }\n",
       "\n",
       "    .dataframe thead th {\n",
       "        text-align: right;\n",
       "    }\n",
       "</style>\n",
       "<table border=\"1\" class=\"dataframe\">\n",
       "  <thead>\n",
       "    <tr style=\"text-align: right;\">\n",
       "      <th></th>\n",
       "      <th>SOUID</th>\n",
       "      <th>DATE</th>\n",
       "      <th>TG</th>\n",
       "      <th>Q_TG</th>\n",
       "    </tr>\n",
       "  </thead>\n",
       "  <tbody>\n",
       "    <tr>\n",
       "      <th>0</th>\n",
       "      <td>107054</td>\n",
       "      <td>19790101</td>\n",
       "      <td>-41</td>\n",
       "      <td>0</td>\n",
       "    </tr>\n",
       "    <tr>\n",
       "      <th>1</th>\n",
       "      <td>107054</td>\n",
       "      <td>19790102</td>\n",
       "      <td>-26</td>\n",
       "      <td>0</td>\n",
       "    </tr>\n",
       "    <tr>\n",
       "      <th>2</th>\n",
       "      <td>107054</td>\n",
       "      <td>19790103</td>\n",
       "      <td>-28</td>\n",
       "      <td>0</td>\n",
       "    </tr>\n",
       "    <tr>\n",
       "      <th>3</th>\n",
       "      <td>107054</td>\n",
       "      <td>19790104</td>\n",
       "      <td>-26</td>\n",
       "      <td>0</td>\n",
       "    </tr>\n",
       "    <tr>\n",
       "      <th>4</th>\n",
       "      <td>107054</td>\n",
       "      <td>19790105</td>\n",
       "      <td>-8</td>\n",
       "      <td>0</td>\n",
       "    </tr>\n",
       "  </tbody>\n",
       "</table>\n",
       "</div>"
      ],
      "text/plain": [
       "    SOUID      DATE     TG   Q_TG\n",
       "0  107054  19790101    -41      0\n",
       "1  107054  19790102    -26      0\n",
       "2  107054  19790103    -28      0\n",
       "3  107054  19790104    -26      0\n",
       "4  107054  19790105     -8      0"
      ]
     },
     "execution_count": 67,
     "metadata": {},
     "output_type": "execute_result"
    }
   ],
   "source": [
    "tg_df.head()"
   ]
  },
  {
   "cell_type": "code",
   "execution_count": 68,
   "id": "3020c5d7",
   "metadata": {},
   "outputs": [
    {
     "name": "stdout",
     "output_type": "stream",
     "text": [
      "<class 'pandas.core.frame.DataFrame'>\n",
      "RangeIndex: 16071 entries, 0 to 16070\n",
      "Data columns (total 4 columns):\n",
      " #   Column    Non-Null Count  Dtype\n",
      "---  ------    --------------  -----\n",
      " 0    SOUID    16071 non-null  int64\n",
      " 1       DATE  16071 non-null  int64\n",
      " 2      TG     16071 non-null  int64\n",
      " 3    Q_TG     16071 non-null  int64\n",
      "dtypes: int64(4)\n",
      "memory usage: 502.3 KB\n"
     ]
    }
   ],
   "source": [
    "tg_df.info()"
   ]
  },
  {
   "cell_type": "code",
   "execution_count": 69,
   "id": "13b65326",
   "metadata": {},
   "outputs": [],
   "source": [
    "tg_df.columns = tg_df.columns.str.strip()"
   ]
  },
  {
   "cell_type": "code",
   "execution_count": 70,
   "id": "d8550543",
   "metadata": {},
   "outputs": [
    {
     "name": "stdout",
     "output_type": "stream",
     "text": [
      "<class 'pandas.core.frame.DataFrame'>\n",
      "RangeIndex: 16071 entries, 0 to 16070\n",
      "Data columns (total 4 columns):\n",
      " #   Column  Non-Null Count  Dtype\n",
      "---  ------  --------------  -----\n",
      " 0   SOUID   16071 non-null  int64\n",
      " 1   DATE    16071 non-null  int64\n",
      " 2   TG      16071 non-null  int64\n",
      " 3   Q_TG    16071 non-null  int64\n",
      "dtypes: int64(4)\n",
      "memory usage: 502.3 KB\n"
     ]
    }
   ],
   "source": [
    "tg_df.info()"
   ]
  },
  {
   "cell_type": "code",
   "execution_count": 71,
   "id": "60e304ea",
   "metadata": {},
   "outputs": [],
   "source": [
    "tg_df2 = tg_df.copy()"
   ]
  },
  {
   "cell_type": "code",
   "execution_count": 72,
   "id": "d4e5ebee",
   "metadata": {},
   "outputs": [],
   "source": [
    "columns_to_drop = ['SOUID', 'Q_TG']"
   ]
  },
  {
   "cell_type": "code",
   "execution_count": 73,
   "id": "56b3edea",
   "metadata": {},
   "outputs": [],
   "source": [
    "tg_df2 = tg_df.drop(columns=columns_to_drop)"
   ]
  },
  {
   "cell_type": "code",
   "execution_count": 74,
   "id": "da72e7e0",
   "metadata": {},
   "outputs": [],
   "source": [
    "tg_df2['DATE'] = pd.to_datetime(tg_df['DATE'], format='%Y%m%d')"
   ]
  },
  {
   "cell_type": "code",
   "execution_count": 75,
   "id": "23944df5",
   "metadata": {},
   "outputs": [
    {
     "data": {
      "text/plain": [
       "DATE    0\n",
       "TG      0\n",
       "dtype: int64"
      ]
     },
     "execution_count": 75,
     "metadata": {},
     "output_type": "execute_result"
    }
   ],
   "source": [
    "# Check for missing values\n",
    "tg_df2.isna().sum()"
   ]
  },
  {
   "cell_type": "code",
   "execution_count": 76,
   "id": "aa002a1c",
   "metadata": {},
   "outputs": [
    {
     "name": "stdout",
     "output_type": "stream",
     "text": [
      "DATE    0\n",
      "TG      0\n",
      "dtype: int64\n"
     ]
    }
   ],
   "source": [
    "tg_df2.replace(-9999, pd.NA, inplace=True)\n",
    "\n",
    "# Count the occurrences of -9999 in each column\n",
    "missing_counts = tg_df2.eq(-9999).sum()\n",
    "\n",
    "# Print the counts\n",
    "print(missing_counts)"
   ]
  },
  {
   "cell_type": "code",
   "execution_count": 77,
   "id": "f3979079",
   "metadata": {},
   "outputs": [
    {
     "data": {
      "text/plain": [
       "DATE     0\n",
       "TG      29\n",
       "dtype: int64"
      ]
     },
     "execution_count": 77,
     "metadata": {},
     "output_type": "execute_result"
    }
   ],
   "source": [
    "# Check for missing values\n",
    "tg_df2.isna().sum()"
   ]
  },
  {
   "cell_type": "code",
   "execution_count": 78,
   "id": "22299426",
   "metadata": {},
   "outputs": [],
   "source": [
    "tg_df2['TG'] = tg_df['TG'] * 0.1"
   ]
  },
  {
   "cell_type": "code",
   "execution_count": 79,
   "id": "9ffa7a2a",
   "metadata": {},
   "outputs": [
    {
     "data": {
      "text/html": [
       "<div>\n",
       "<style scoped>\n",
       "    .dataframe tbody tr th:only-of-type {\n",
       "        vertical-align: middle;\n",
       "    }\n",
       "\n",
       "    .dataframe tbody tr th {\n",
       "        vertical-align: top;\n",
       "    }\n",
       "\n",
       "    .dataframe thead th {\n",
       "        text-align: right;\n",
       "    }\n",
       "</style>\n",
       "<table border=\"1\" class=\"dataframe\">\n",
       "  <thead>\n",
       "    <tr style=\"text-align: right;\">\n",
       "      <th></th>\n",
       "      <th>DATE</th>\n",
       "      <th>TG</th>\n",
       "    </tr>\n",
       "  </thead>\n",
       "  <tbody>\n",
       "    <tr>\n",
       "      <th>0</th>\n",
       "      <td>1979-01-01</td>\n",
       "      <td>-4.1</td>\n",
       "    </tr>\n",
       "    <tr>\n",
       "      <th>1</th>\n",
       "      <td>1979-01-02</td>\n",
       "      <td>-2.6</td>\n",
       "    </tr>\n",
       "    <tr>\n",
       "      <th>2</th>\n",
       "      <td>1979-01-03</td>\n",
       "      <td>-2.8</td>\n",
       "    </tr>\n",
       "    <tr>\n",
       "      <th>3</th>\n",
       "      <td>1979-01-04</td>\n",
       "      <td>-2.6</td>\n",
       "    </tr>\n",
       "    <tr>\n",
       "      <th>4</th>\n",
       "      <td>1979-01-05</td>\n",
       "      <td>-0.8</td>\n",
       "    </tr>\n",
       "    <tr>\n",
       "      <th>...</th>\n",
       "      <td>...</td>\n",
       "      <td>...</td>\n",
       "    </tr>\n",
       "    <tr>\n",
       "      <th>16066</th>\n",
       "      <td>2022-12-27</td>\n",
       "      <td>6.7</td>\n",
       "    </tr>\n",
       "    <tr>\n",
       "      <th>16067</th>\n",
       "      <td>2022-12-28</td>\n",
       "      <td>8.8</td>\n",
       "    </tr>\n",
       "    <tr>\n",
       "      <th>16068</th>\n",
       "      <td>2022-12-29</td>\n",
       "      <td>8.9</td>\n",
       "    </tr>\n",
       "    <tr>\n",
       "      <th>16069</th>\n",
       "      <td>2022-12-30</td>\n",
       "      <td>9.3</td>\n",
       "    </tr>\n",
       "    <tr>\n",
       "      <th>16070</th>\n",
       "      <td>2022-12-31</td>\n",
       "      <td>11.4</td>\n",
       "    </tr>\n",
       "  </tbody>\n",
       "</table>\n",
       "<p>16071 rows × 2 columns</p>\n",
       "</div>"
      ],
      "text/plain": [
       "            DATE    TG\n",
       "0     1979-01-01  -4.1\n",
       "1     1979-01-02  -2.6\n",
       "2     1979-01-03  -2.8\n",
       "3     1979-01-04  -2.6\n",
       "4     1979-01-05  -0.8\n",
       "...          ...   ...\n",
       "16066 2022-12-27   6.7\n",
       "16067 2022-12-28   8.8\n",
       "16068 2022-12-29   8.9\n",
       "16069 2022-12-30   9.3\n",
       "16070 2022-12-31  11.4\n",
       "\n",
       "[16071 rows x 2 columns]"
      ]
     },
     "execution_count": 79,
     "metadata": {},
     "output_type": "execute_result"
    }
   ],
   "source": [
    "tg_df2"
   ]
  },
  {
   "cell_type": "code",
   "execution_count": 80,
   "id": "9037480b",
   "metadata": {},
   "outputs": [
    {
     "data": {
      "text/html": [
       "<div>\n",
       "<style scoped>\n",
       "    .dataframe tbody tr th:only-of-type {\n",
       "        vertical-align: middle;\n",
       "    }\n",
       "\n",
       "    .dataframe tbody tr th {\n",
       "        vertical-align: top;\n",
       "    }\n",
       "\n",
       "    .dataframe thead th {\n",
       "        text-align: right;\n",
       "    }\n",
       "</style>\n",
       "<table border=\"1\" class=\"dataframe\">\n",
       "  <thead>\n",
       "    <tr style=\"text-align: right;\">\n",
       "      <th></th>\n",
       "      <th>DATE</th>\n",
       "      <th>TG</th>\n",
       "    </tr>\n",
       "  </thead>\n",
       "  <tbody>\n",
       "  </tbody>\n",
       "</table>\n",
       "</div>"
      ],
      "text/plain": [
       "Empty DataFrame\n",
       "Columns: [DATE, TG]\n",
       "Index: []"
      ]
     },
     "execution_count": 80,
     "metadata": {},
     "output_type": "execute_result"
    }
   ],
   "source": [
    "tg_df2.loc[np.where(tg_df2['DATE'].duplicated())[0]]"
   ]
  },
  {
   "cell_type": "markdown",
   "id": "772bb09d",
   "metadata": {},
   "source": [
    "## TN"
   ]
  },
  {
   "cell_type": "code",
   "execution_count": 81,
   "id": "25b0a4f2",
   "metadata": {},
   "outputs": [],
   "source": [
    "# Read in data\n",
    "tn_df = pd.read_csv(\"C:\\\\Users\\\\mitth\\\\OneDrive\\\\Desktop\\\\ECA_blended_custom\\\\Reworked\\\\TN_STAID001860.txt\", delimiter=\",\")"
   ]
  },
  {
   "cell_type": "code",
   "execution_count": 82,
   "id": "9151fd07",
   "metadata": {},
   "outputs": [
    {
     "data": {
      "text/html": [
       "<div>\n",
       "<style scoped>\n",
       "    .dataframe tbody tr th:only-of-type {\n",
       "        vertical-align: middle;\n",
       "    }\n",
       "\n",
       "    .dataframe tbody tr th {\n",
       "        vertical-align: top;\n",
       "    }\n",
       "\n",
       "    .dataframe thead th {\n",
       "        text-align: right;\n",
       "    }\n",
       "</style>\n",
       "<table border=\"1\" class=\"dataframe\">\n",
       "  <thead>\n",
       "    <tr style=\"text-align: right;\">\n",
       "      <th></th>\n",
       "      <th>SOUID</th>\n",
       "      <th>DATE</th>\n",
       "      <th>TN</th>\n",
       "      <th>Q_TN</th>\n",
       "    </tr>\n",
       "  </thead>\n",
       "  <tbody>\n",
       "    <tr>\n",
       "      <th>0</th>\n",
       "      <td>105760</td>\n",
       "      <td>19790101</td>\n",
       "      <td>-75</td>\n",
       "      <td>0</td>\n",
       "    </tr>\n",
       "    <tr>\n",
       "      <th>1</th>\n",
       "      <td>105760</td>\n",
       "      <td>19790102</td>\n",
       "      <td>-75</td>\n",
       "      <td>0</td>\n",
       "    </tr>\n",
       "    <tr>\n",
       "      <th>2</th>\n",
       "      <td>105760</td>\n",
       "      <td>19790103</td>\n",
       "      <td>-72</td>\n",
       "      <td>0</td>\n",
       "    </tr>\n",
       "    <tr>\n",
       "      <th>3</th>\n",
       "      <td>105760</td>\n",
       "      <td>19790104</td>\n",
       "      <td>-65</td>\n",
       "      <td>0</td>\n",
       "    </tr>\n",
       "    <tr>\n",
       "      <th>4</th>\n",
       "      <td>105760</td>\n",
       "      <td>19790105</td>\n",
       "      <td>-14</td>\n",
       "      <td>0</td>\n",
       "    </tr>\n",
       "  </tbody>\n",
       "</table>\n",
       "</div>"
      ],
      "text/plain": [
       "    SOUID      DATE     TN   Q_TN\n",
       "0  105760  19790101    -75      0\n",
       "1  105760  19790102    -75      0\n",
       "2  105760  19790103    -72      0\n",
       "3  105760  19790104    -65      0\n",
       "4  105760  19790105    -14      0"
      ]
     },
     "execution_count": 82,
     "metadata": {},
     "output_type": "execute_result"
    }
   ],
   "source": [
    "tn_df.head()"
   ]
  },
  {
   "cell_type": "code",
   "execution_count": 83,
   "id": "a9e610da",
   "metadata": {},
   "outputs": [
    {
     "name": "stdout",
     "output_type": "stream",
     "text": [
      "<class 'pandas.core.frame.DataFrame'>\n",
      "RangeIndex: 16071 entries, 0 to 16070\n",
      "Data columns (total 4 columns):\n",
      " #   Column    Non-Null Count  Dtype\n",
      "---  ------    --------------  -----\n",
      " 0    SOUID    16071 non-null  int64\n",
      " 1       DATE  16071 non-null  int64\n",
      " 2      TN     16071 non-null  int64\n",
      " 3    Q_TN     16071 non-null  int64\n",
      "dtypes: int64(4)\n",
      "memory usage: 502.3 KB\n"
     ]
    }
   ],
   "source": [
    "tn_df.info()"
   ]
  },
  {
   "cell_type": "code",
   "execution_count": 84,
   "id": "5a28346b",
   "metadata": {},
   "outputs": [],
   "source": [
    "tn_df.columns = tn_df.columns.str.strip()"
   ]
  },
  {
   "cell_type": "code",
   "execution_count": 85,
   "id": "c44639ee",
   "metadata": {},
   "outputs": [
    {
     "name": "stdout",
     "output_type": "stream",
     "text": [
      "<class 'pandas.core.frame.DataFrame'>\n",
      "RangeIndex: 16071 entries, 0 to 16070\n",
      "Data columns (total 4 columns):\n",
      " #   Column  Non-Null Count  Dtype\n",
      "---  ------  --------------  -----\n",
      " 0   SOUID   16071 non-null  int64\n",
      " 1   DATE    16071 non-null  int64\n",
      " 2   TN      16071 non-null  int64\n",
      " 3   Q_TN    16071 non-null  int64\n",
      "dtypes: int64(4)\n",
      "memory usage: 502.3 KB\n"
     ]
    }
   ],
   "source": [
    "tn_df.info()"
   ]
  },
  {
   "cell_type": "code",
   "execution_count": 86,
   "id": "4d64968d",
   "metadata": {},
   "outputs": [],
   "source": [
    "tn_df2 = tn_df.copy()"
   ]
  },
  {
   "cell_type": "code",
   "execution_count": 87,
   "id": "12858a59",
   "metadata": {},
   "outputs": [],
   "source": [
    "columns_to_drop = ['SOUID', 'Q_TN']"
   ]
  },
  {
   "cell_type": "code",
   "execution_count": 88,
   "id": "34571876",
   "metadata": {},
   "outputs": [],
   "source": [
    "tn_df2 = tn_df.drop(columns=columns_to_drop)"
   ]
  },
  {
   "cell_type": "code",
   "execution_count": 89,
   "id": "82acfff8",
   "metadata": {},
   "outputs": [],
   "source": [
    "tn_df2['DATE'] = pd.to_datetime(tn_df['DATE'], format='%Y%m%d')"
   ]
  },
  {
   "cell_type": "code",
   "execution_count": 90,
   "id": "44ed92f5",
   "metadata": {},
   "outputs": [
    {
     "data": {
      "text/plain": [
       "DATE    0\n",
       "TN      0\n",
       "dtype: int64"
      ]
     },
     "execution_count": 90,
     "metadata": {},
     "output_type": "execute_result"
    }
   ],
   "source": [
    "# Check for missing values\n",
    "tn_df2.isna().sum()"
   ]
  },
  {
   "cell_type": "code",
   "execution_count": 91,
   "id": "0049428a",
   "metadata": {},
   "outputs": [
    {
     "name": "stdout",
     "output_type": "stream",
     "text": [
      "DATE    0\n",
      "TN      0\n",
      "dtype: int64\n"
     ]
    }
   ],
   "source": [
    "tn_df2.replace(-9999, pd.NA, inplace=True)\n",
    "\n",
    "# Count the occurrences of -9999 in each column\n",
    "missing_counts = tn_df2.eq(-9999).sum()\n",
    "\n",
    "# Print the counts\n",
    "print(missing_counts)"
   ]
  },
  {
   "cell_type": "code",
   "execution_count": 92,
   "id": "7430c0c0",
   "metadata": {},
   "outputs": [
    {
     "data": {
      "text/plain": [
       "DATE    0\n",
       "TN      0\n",
       "dtype: int64"
      ]
     },
     "execution_count": 92,
     "metadata": {},
     "output_type": "execute_result"
    }
   ],
   "source": [
    "# Check for missing values\n",
    "tn_df2.isna().sum()"
   ]
  },
  {
   "cell_type": "code",
   "execution_count": 93,
   "id": "6e94ada7",
   "metadata": {},
   "outputs": [],
   "source": [
    "tn_df2['TN'] = tn_df['TN'] * 0.1"
   ]
  },
  {
   "cell_type": "code",
   "execution_count": 94,
   "id": "4470d61c",
   "metadata": {},
   "outputs": [
    {
     "data": {
      "text/html": [
       "<div>\n",
       "<style scoped>\n",
       "    .dataframe tbody tr th:only-of-type {\n",
       "        vertical-align: middle;\n",
       "    }\n",
       "\n",
       "    .dataframe tbody tr th {\n",
       "        vertical-align: top;\n",
       "    }\n",
       "\n",
       "    .dataframe thead th {\n",
       "        text-align: right;\n",
       "    }\n",
       "</style>\n",
       "<table border=\"1\" class=\"dataframe\">\n",
       "  <thead>\n",
       "    <tr style=\"text-align: right;\">\n",
       "      <th></th>\n",
       "      <th>DATE</th>\n",
       "      <th>TN</th>\n",
       "    </tr>\n",
       "  </thead>\n",
       "  <tbody>\n",
       "    <tr>\n",
       "      <th>0</th>\n",
       "      <td>1979-01-01</td>\n",
       "      <td>-7.5</td>\n",
       "    </tr>\n",
       "    <tr>\n",
       "      <th>1</th>\n",
       "      <td>1979-01-02</td>\n",
       "      <td>-7.5</td>\n",
       "    </tr>\n",
       "    <tr>\n",
       "      <th>2</th>\n",
       "      <td>1979-01-03</td>\n",
       "      <td>-7.2</td>\n",
       "    </tr>\n",
       "    <tr>\n",
       "      <th>3</th>\n",
       "      <td>1979-01-04</td>\n",
       "      <td>-6.5</td>\n",
       "    </tr>\n",
       "    <tr>\n",
       "      <th>4</th>\n",
       "      <td>1979-01-05</td>\n",
       "      <td>-1.4</td>\n",
       "    </tr>\n",
       "    <tr>\n",
       "      <th>...</th>\n",
       "      <td>...</td>\n",
       "      <td>...</td>\n",
       "    </tr>\n",
       "    <tr>\n",
       "      <th>16066</th>\n",
       "      <td>2022-12-27</td>\n",
       "      <td>1.9</td>\n",
       "    </tr>\n",
       "    <tr>\n",
       "      <th>16067</th>\n",
       "      <td>2022-12-28</td>\n",
       "      <td>5.7</td>\n",
       "    </tr>\n",
       "    <tr>\n",
       "      <th>16068</th>\n",
       "      <td>2022-12-29</td>\n",
       "      <td>8.1</td>\n",
       "    </tr>\n",
       "    <tr>\n",
       "      <th>16069</th>\n",
       "      <td>2022-12-30</td>\n",
       "      <td>4.5</td>\n",
       "    </tr>\n",
       "    <tr>\n",
       "      <th>16070</th>\n",
       "      <td>2022-12-31</td>\n",
       "      <td>8.9</td>\n",
       "    </tr>\n",
       "  </tbody>\n",
       "</table>\n",
       "<p>16071 rows × 2 columns</p>\n",
       "</div>"
      ],
      "text/plain": [
       "            DATE   TN\n",
       "0     1979-01-01 -7.5\n",
       "1     1979-01-02 -7.5\n",
       "2     1979-01-03 -7.2\n",
       "3     1979-01-04 -6.5\n",
       "4     1979-01-05 -1.4\n",
       "...          ...  ...\n",
       "16066 2022-12-27  1.9\n",
       "16067 2022-12-28  5.7\n",
       "16068 2022-12-29  8.1\n",
       "16069 2022-12-30  4.5\n",
       "16070 2022-12-31  8.9\n",
       "\n",
       "[16071 rows x 2 columns]"
      ]
     },
     "execution_count": 94,
     "metadata": {},
     "output_type": "execute_result"
    }
   ],
   "source": [
    "tn_df2"
   ]
  },
  {
   "cell_type": "code",
   "execution_count": 95,
   "id": "72ef482d",
   "metadata": {},
   "outputs": [
    {
     "data": {
      "text/html": [
       "<div>\n",
       "<style scoped>\n",
       "    .dataframe tbody tr th:only-of-type {\n",
       "        vertical-align: middle;\n",
       "    }\n",
       "\n",
       "    .dataframe tbody tr th {\n",
       "        vertical-align: top;\n",
       "    }\n",
       "\n",
       "    .dataframe thead th {\n",
       "        text-align: right;\n",
       "    }\n",
       "</style>\n",
       "<table border=\"1\" class=\"dataframe\">\n",
       "  <thead>\n",
       "    <tr style=\"text-align: right;\">\n",
       "      <th></th>\n",
       "      <th>DATE</th>\n",
       "      <th>TN</th>\n",
       "    </tr>\n",
       "  </thead>\n",
       "  <tbody>\n",
       "  </tbody>\n",
       "</table>\n",
       "</div>"
      ],
      "text/plain": [
       "Empty DataFrame\n",
       "Columns: [DATE, TN]\n",
       "Index: []"
      ]
     },
     "execution_count": 95,
     "metadata": {},
     "output_type": "execute_result"
    }
   ],
   "source": [
    "tn_df2.loc[np.where(tn_df2['DATE'].duplicated())[0]]"
   ]
  },
  {
   "cell_type": "markdown",
   "id": "9e376f7f",
   "metadata": {},
   "source": [
    "## RR"
   ]
  },
  {
   "cell_type": "code",
   "execution_count": 96,
   "id": "f1e68ed8",
   "metadata": {},
   "outputs": [],
   "source": [
    "# Read in data\n",
    "rr_df = pd.read_csv(\"C:\\\\Users\\\\mitth\\\\OneDrive\\\\Desktop\\\\ECA_blended_custom\\\\Reworked\\\\RR_STAID001860.txt\", delimiter=\",\")"
   ]
  },
  {
   "cell_type": "code",
   "execution_count": 97,
   "id": "77da68c2",
   "metadata": {},
   "outputs": [
    {
     "data": {
      "text/html": [
       "<div>\n",
       "<style scoped>\n",
       "    .dataframe tbody tr th:only-of-type {\n",
       "        vertical-align: middle;\n",
       "    }\n",
       "\n",
       "    .dataframe tbody tr th {\n",
       "        vertical-align: top;\n",
       "    }\n",
       "\n",
       "    .dataframe thead th {\n",
       "        text-align: right;\n",
       "    }\n",
       "</style>\n",
       "<table border=\"1\" class=\"dataframe\">\n",
       "  <thead>\n",
       "    <tr style=\"text-align: right;\">\n",
       "      <th></th>\n",
       "      <th>SOUID</th>\n",
       "      <th>DATE</th>\n",
       "      <th>RR</th>\n",
       "      <th>Q_RR</th>\n",
       "    </tr>\n",
       "  </thead>\n",
       "  <tbody>\n",
       "    <tr>\n",
       "      <th>0</th>\n",
       "      <td>107650</td>\n",
       "      <td>19790101</td>\n",
       "      <td>4</td>\n",
       "      <td>0</td>\n",
       "    </tr>\n",
       "    <tr>\n",
       "      <th>1</th>\n",
       "      <td>107650</td>\n",
       "      <td>19790102</td>\n",
       "      <td>0</td>\n",
       "      <td>0</td>\n",
       "    </tr>\n",
       "    <tr>\n",
       "      <th>2</th>\n",
       "      <td>107650</td>\n",
       "      <td>19790103</td>\n",
       "      <td>0</td>\n",
       "      <td>0</td>\n",
       "    </tr>\n",
       "    <tr>\n",
       "      <th>3</th>\n",
       "      <td>107650</td>\n",
       "      <td>19790104</td>\n",
       "      <td>0</td>\n",
       "      <td>0</td>\n",
       "    </tr>\n",
       "    <tr>\n",
       "      <th>4</th>\n",
       "      <td>107650</td>\n",
       "      <td>19790105</td>\n",
       "      <td>0</td>\n",
       "      <td>0</td>\n",
       "    </tr>\n",
       "  </tbody>\n",
       "</table>\n",
       "</div>"
      ],
      "text/plain": [
       "    SOUID      DATE     RR   Q_RR\n",
       "0  107650  19790101      4      0\n",
       "1  107650  19790102      0      0\n",
       "2  107650  19790103      0      0\n",
       "3  107650  19790104      0      0\n",
       "4  107650  19790105      0      0"
      ]
     },
     "execution_count": 97,
     "metadata": {},
     "output_type": "execute_result"
    }
   ],
   "source": [
    "rr_df.head()"
   ]
  },
  {
   "cell_type": "code",
   "execution_count": 98,
   "id": "8afd38d1",
   "metadata": {},
   "outputs": [
    {
     "name": "stdout",
     "output_type": "stream",
     "text": [
      "<class 'pandas.core.frame.DataFrame'>\n",
      "RangeIndex: 16071 entries, 0 to 16070\n",
      "Data columns (total 4 columns):\n",
      " #   Column    Non-Null Count  Dtype\n",
      "---  ------    --------------  -----\n",
      " 0    SOUID    16071 non-null  int64\n",
      " 1       DATE  16071 non-null  int64\n",
      " 2      RR     16071 non-null  int64\n",
      " 3    Q_RR     16071 non-null  int64\n",
      "dtypes: int64(4)\n",
      "memory usage: 502.3 KB\n"
     ]
    }
   ],
   "source": [
    "rr_df.info()"
   ]
  },
  {
   "cell_type": "code",
   "execution_count": 99,
   "id": "18e2ff2b",
   "metadata": {},
   "outputs": [],
   "source": [
    "rr_df.columns = rr_df.columns.str.strip()"
   ]
  },
  {
   "cell_type": "code",
   "execution_count": 100,
   "id": "3e670573",
   "metadata": {},
   "outputs": [
    {
     "name": "stdout",
     "output_type": "stream",
     "text": [
      "<class 'pandas.core.frame.DataFrame'>\n",
      "RangeIndex: 16071 entries, 0 to 16070\n",
      "Data columns (total 4 columns):\n",
      " #   Column  Non-Null Count  Dtype\n",
      "---  ------  --------------  -----\n",
      " 0   SOUID   16071 non-null  int64\n",
      " 1   DATE    16071 non-null  int64\n",
      " 2   RR      16071 non-null  int64\n",
      " 3   Q_RR    16071 non-null  int64\n",
      "dtypes: int64(4)\n",
      "memory usage: 502.3 KB\n"
     ]
    }
   ],
   "source": [
    "rr_df.info()"
   ]
  },
  {
   "cell_type": "code",
   "execution_count": 101,
   "id": "16dcc3fa",
   "metadata": {},
   "outputs": [],
   "source": [
    "rr_df2 = rr_df.copy()"
   ]
  },
  {
   "cell_type": "code",
   "execution_count": 102,
   "id": "00bcb352",
   "metadata": {},
   "outputs": [],
   "source": [
    "columns_to_drop = ['SOUID', 'Q_RR']"
   ]
  },
  {
   "cell_type": "code",
   "execution_count": 103,
   "id": "50d4c906",
   "metadata": {},
   "outputs": [],
   "source": [
    "rr_df2 = rr_df.drop(columns=columns_to_drop)"
   ]
  },
  {
   "cell_type": "code",
   "execution_count": 104,
   "id": "a209afe0",
   "metadata": {},
   "outputs": [],
   "source": [
    "rr_df2['DATE'] = pd.to_datetime(rr_df['DATE'], format='%Y%m%d')"
   ]
  },
  {
   "cell_type": "code",
   "execution_count": 105,
   "id": "358c5d43",
   "metadata": {},
   "outputs": [
    {
     "data": {
      "text/plain": [
       "DATE    0\n",
       "RR      0\n",
       "dtype: int64"
      ]
     },
     "execution_count": 105,
     "metadata": {},
     "output_type": "execute_result"
    }
   ],
   "source": [
    "# Check for missing values\n",
    "rr_df2.isna().sum()"
   ]
  },
  {
   "cell_type": "code",
   "execution_count": 106,
   "id": "d9f821dc",
   "metadata": {},
   "outputs": [
    {
     "name": "stdout",
     "output_type": "stream",
     "text": [
      "DATE    0\n",
      "RR      0\n",
      "dtype: int64\n"
     ]
    }
   ],
   "source": [
    "rr_df2.replace(-9999, pd.NA, inplace=True)\n",
    "\n",
    "# Count the occurrences of -9999 in each column\n",
    "missing_counts = rr_df2.eq(-9999).sum()\n",
    "\n",
    "# Print the counts\n",
    "print(missing_counts)"
   ]
  },
  {
   "cell_type": "code",
   "execution_count": 107,
   "id": "9704b597",
   "metadata": {},
   "outputs": [
    {
     "data": {
      "text/plain": [
       "DATE    0\n",
       "RR      0\n",
       "dtype: int64"
      ]
     },
     "execution_count": 107,
     "metadata": {},
     "output_type": "execute_result"
    }
   ],
   "source": [
    "# Check for missing values\n",
    "rr_df2.isna().sum()"
   ]
  },
  {
   "cell_type": "code",
   "execution_count": 108,
   "id": "0e01696e",
   "metadata": {},
   "outputs": [],
   "source": [
    "rr_df2['RR'] = rr_df['RR'] * 0.1"
   ]
  },
  {
   "cell_type": "code",
   "execution_count": 109,
   "id": "7a5858ab",
   "metadata": {},
   "outputs": [
    {
     "data": {
      "text/html": [
       "<div>\n",
       "<style scoped>\n",
       "    .dataframe tbody tr th:only-of-type {\n",
       "        vertical-align: middle;\n",
       "    }\n",
       "\n",
       "    .dataframe tbody tr th {\n",
       "        vertical-align: top;\n",
       "    }\n",
       "\n",
       "    .dataframe thead th {\n",
       "        text-align: right;\n",
       "    }\n",
       "</style>\n",
       "<table border=\"1\" class=\"dataframe\">\n",
       "  <thead>\n",
       "    <tr style=\"text-align: right;\">\n",
       "      <th></th>\n",
       "      <th>DATE</th>\n",
       "      <th>RR</th>\n",
       "    </tr>\n",
       "  </thead>\n",
       "  <tbody>\n",
       "    <tr>\n",
       "      <th>0</th>\n",
       "      <td>1979-01-01</td>\n",
       "      <td>0.4</td>\n",
       "    </tr>\n",
       "    <tr>\n",
       "      <th>1</th>\n",
       "      <td>1979-01-02</td>\n",
       "      <td>0.0</td>\n",
       "    </tr>\n",
       "    <tr>\n",
       "      <th>2</th>\n",
       "      <td>1979-01-03</td>\n",
       "      <td>0.0</td>\n",
       "    </tr>\n",
       "    <tr>\n",
       "      <th>3</th>\n",
       "      <td>1979-01-04</td>\n",
       "      <td>0.0</td>\n",
       "    </tr>\n",
       "    <tr>\n",
       "      <th>4</th>\n",
       "      <td>1979-01-05</td>\n",
       "      <td>0.0</td>\n",
       "    </tr>\n",
       "    <tr>\n",
       "      <th>...</th>\n",
       "      <td>...</td>\n",
       "      <td>...</td>\n",
       "    </tr>\n",
       "    <tr>\n",
       "      <th>16066</th>\n",
       "      <td>2022-12-27</td>\n",
       "      <td>6.2</td>\n",
       "    </tr>\n",
       "    <tr>\n",
       "      <th>16067</th>\n",
       "      <td>2022-12-28</td>\n",
       "      <td>3.6</td>\n",
       "    </tr>\n",
       "    <tr>\n",
       "      <th>16068</th>\n",
       "      <td>2022-12-29</td>\n",
       "      <td>0.6</td>\n",
       "    </tr>\n",
       "    <tr>\n",
       "      <th>16069</th>\n",
       "      <td>2022-12-30</td>\n",
       "      <td>1.8</td>\n",
       "    </tr>\n",
       "    <tr>\n",
       "      <th>16070</th>\n",
       "      <td>2022-12-31</td>\n",
       "      <td>6.2</td>\n",
       "    </tr>\n",
       "  </tbody>\n",
       "</table>\n",
       "<p>16071 rows × 2 columns</p>\n",
       "</div>"
      ],
      "text/plain": [
       "            DATE   RR\n",
       "0     1979-01-01  0.4\n",
       "1     1979-01-02  0.0\n",
       "2     1979-01-03  0.0\n",
       "3     1979-01-04  0.0\n",
       "4     1979-01-05  0.0\n",
       "...          ...  ...\n",
       "16066 2022-12-27  6.2\n",
       "16067 2022-12-28  3.6\n",
       "16068 2022-12-29  0.6\n",
       "16069 2022-12-30  1.8\n",
       "16070 2022-12-31  6.2\n",
       "\n",
       "[16071 rows x 2 columns]"
      ]
     },
     "execution_count": 109,
     "metadata": {},
     "output_type": "execute_result"
    }
   ],
   "source": [
    "rr_df2"
   ]
  },
  {
   "cell_type": "code",
   "execution_count": 110,
   "id": "ece8f2f5",
   "metadata": {},
   "outputs": [
    {
     "data": {
      "text/html": [
       "<div>\n",
       "<style scoped>\n",
       "    .dataframe tbody tr th:only-of-type {\n",
       "        vertical-align: middle;\n",
       "    }\n",
       "\n",
       "    .dataframe tbody tr th {\n",
       "        vertical-align: top;\n",
       "    }\n",
       "\n",
       "    .dataframe thead th {\n",
       "        text-align: right;\n",
       "    }\n",
       "</style>\n",
       "<table border=\"1\" class=\"dataframe\">\n",
       "  <thead>\n",
       "    <tr style=\"text-align: right;\">\n",
       "      <th></th>\n",
       "      <th>DATE</th>\n",
       "      <th>RR</th>\n",
       "    </tr>\n",
       "  </thead>\n",
       "  <tbody>\n",
       "  </tbody>\n",
       "</table>\n",
       "</div>"
      ],
      "text/plain": [
       "Empty DataFrame\n",
       "Columns: [DATE, RR]\n",
       "Index: []"
      ]
     },
     "execution_count": 110,
     "metadata": {},
     "output_type": "execute_result"
    }
   ],
   "source": [
    "rr_df2.loc[np.where(rr_df2['DATE'].duplicated())[0]]"
   ]
  },
  {
   "cell_type": "markdown",
   "id": "d6fec65a",
   "metadata": {},
   "source": [
    "## PP"
   ]
  },
  {
   "cell_type": "code",
   "execution_count": 111,
   "id": "f2a57038",
   "metadata": {},
   "outputs": [],
   "source": [
    "# Read in data\n",
    "pp_df = pd.read_csv(\"C:\\\\Users\\\\mitth\\\\OneDrive\\\\Desktop\\\\ECA_blended_custom\\\\Reworked\\\\PP_STAID001860.txt\", delimiter=\",\")"
   ]
  },
  {
   "cell_type": "code",
   "execution_count": 112,
   "id": "4ace452a",
   "metadata": {},
   "outputs": [
    {
     "data": {
      "text/html": [
       "<div>\n",
       "<style scoped>\n",
       "    .dataframe tbody tr th:only-of-type {\n",
       "        vertical-align: middle;\n",
       "    }\n",
       "\n",
       "    .dataframe tbody tr th {\n",
       "        vertical-align: top;\n",
       "    }\n",
       "\n",
       "    .dataframe thead th {\n",
       "        text-align: right;\n",
       "    }\n",
       "</style>\n",
       "<table border=\"1\" class=\"dataframe\">\n",
       "  <thead>\n",
       "    <tr style=\"text-align: right;\">\n",
       "      <th></th>\n",
       "      <th>SOUID</th>\n",
       "      <th>DATE</th>\n",
       "      <th>PP</th>\n",
       "      <th>Q_PP</th>\n",
       "    </tr>\n",
       "  </thead>\n",
       "  <tbody>\n",
       "    <tr>\n",
       "      <th>0</th>\n",
       "      <td>116437</td>\n",
       "      <td>19790101</td>\n",
       "      <td>10190</td>\n",
       "      <td>0</td>\n",
       "    </tr>\n",
       "    <tr>\n",
       "      <th>1</th>\n",
       "      <td>116437</td>\n",
       "      <td>19790102</td>\n",
       "      <td>10253</td>\n",
       "      <td>0</td>\n",
       "    </tr>\n",
       "    <tr>\n",
       "      <th>2</th>\n",
       "      <td>116437</td>\n",
       "      <td>19790103</td>\n",
       "      <td>10205</td>\n",
       "      <td>0</td>\n",
       "    </tr>\n",
       "    <tr>\n",
       "      <th>3</th>\n",
       "      <td>116437</td>\n",
       "      <td>19790104</td>\n",
       "      <td>10084</td>\n",
       "      <td>0</td>\n",
       "    </tr>\n",
       "    <tr>\n",
       "      <th>4</th>\n",
       "      <td>116437</td>\n",
       "      <td>19790105</td>\n",
       "      <td>10225</td>\n",
       "      <td>0</td>\n",
       "    </tr>\n",
       "  </tbody>\n",
       "</table>\n",
       "</div>"
      ],
      "text/plain": [
       "    SOUID      DATE     PP   Q_PP\n",
       "0  116437  19790101  10190      0\n",
       "1  116437  19790102  10253      0\n",
       "2  116437  19790103  10205      0\n",
       "3  116437  19790104  10084      0\n",
       "4  116437  19790105  10225      0"
      ]
     },
     "execution_count": 112,
     "metadata": {},
     "output_type": "execute_result"
    }
   ],
   "source": [
    "pp_df.head()"
   ]
  },
  {
   "cell_type": "code",
   "execution_count": 113,
   "id": "7cfe6393",
   "metadata": {},
   "outputs": [
    {
     "name": "stdout",
     "output_type": "stream",
     "text": [
      "<class 'pandas.core.frame.DataFrame'>\n",
      "RangeIndex: 16071 entries, 0 to 16070\n",
      "Data columns (total 4 columns):\n",
      " #   Column    Non-Null Count  Dtype\n",
      "---  ------    --------------  -----\n",
      " 0    SOUID    16071 non-null  int64\n",
      " 1       DATE  16071 non-null  int64\n",
      " 2      PP     16071 non-null  int64\n",
      " 3    Q_PP     16071 non-null  int64\n",
      "dtypes: int64(4)\n",
      "memory usage: 502.3 KB\n"
     ]
    }
   ],
   "source": [
    "pp_df.info()"
   ]
  },
  {
   "cell_type": "code",
   "execution_count": 114,
   "id": "002ec6ae",
   "metadata": {},
   "outputs": [],
   "source": [
    "pp_df.columns = pp_df.columns.str.strip()"
   ]
  },
  {
   "cell_type": "code",
   "execution_count": 115,
   "id": "930c683d",
   "metadata": {},
   "outputs": [
    {
     "name": "stdout",
     "output_type": "stream",
     "text": [
      "<class 'pandas.core.frame.DataFrame'>\n",
      "RangeIndex: 16071 entries, 0 to 16070\n",
      "Data columns (total 4 columns):\n",
      " #   Column  Non-Null Count  Dtype\n",
      "---  ------  --------------  -----\n",
      " 0   SOUID   16071 non-null  int64\n",
      " 1   DATE    16071 non-null  int64\n",
      " 2   PP      16071 non-null  int64\n",
      " 3   Q_PP    16071 non-null  int64\n",
      "dtypes: int64(4)\n",
      "memory usage: 502.3 KB\n"
     ]
    }
   ],
   "source": [
    "pp_df.info()"
   ]
  },
  {
   "cell_type": "code",
   "execution_count": 116,
   "id": "aade34ef",
   "metadata": {},
   "outputs": [],
   "source": [
    "pp_df2 = pp_df.copy()"
   ]
  },
  {
   "cell_type": "code",
   "execution_count": 117,
   "id": "cb07f63e",
   "metadata": {},
   "outputs": [],
   "source": [
    "columns_to_drop = ['SOUID', 'Q_PP']"
   ]
  },
  {
   "cell_type": "code",
   "execution_count": 118,
   "id": "6e7cb30a",
   "metadata": {},
   "outputs": [],
   "source": [
    "pp_df2 = pp_df.drop(columns=columns_to_drop)"
   ]
  },
  {
   "cell_type": "code",
   "execution_count": 119,
   "id": "86ee13f1",
   "metadata": {},
   "outputs": [],
   "source": [
    "pp_df2['DATE'] = pd.to_datetime(pp_df['DATE'], format='%Y%m%d')"
   ]
  },
  {
   "cell_type": "code",
   "execution_count": 120,
   "id": "82d2fb16",
   "metadata": {},
   "outputs": [
    {
     "data": {
      "text/plain": [
       "DATE    0\n",
       "PP      0\n",
       "dtype: int64"
      ]
     },
     "execution_count": 120,
     "metadata": {},
     "output_type": "execute_result"
    }
   ],
   "source": [
    "# Check for missing values\n",
    "pp_df2.isna().sum()"
   ]
  },
  {
   "cell_type": "code",
   "execution_count": 121,
   "id": "e0c3740d",
   "metadata": {},
   "outputs": [
    {
     "name": "stdout",
     "output_type": "stream",
     "text": [
      "DATE    0\n",
      "PP      0\n",
      "dtype: int64\n"
     ]
    }
   ],
   "source": [
    "pp_df2.replace(-9999, pd.NA, inplace=True)\n",
    "\n",
    "# Count the occurrences of -9999 in each column\n",
    "missing_counts = pp_df2.eq(-9999).sum()\n",
    "\n",
    "# Print the counts\n",
    "print(missing_counts)"
   ]
  },
  {
   "cell_type": "code",
   "execution_count": 122,
   "id": "dc5db939",
   "metadata": {},
   "outputs": [
    {
     "data": {
      "text/plain": [
       "DATE    0\n",
       "PP      4\n",
       "dtype: int64"
      ]
     },
     "execution_count": 122,
     "metadata": {},
     "output_type": "execute_result"
    }
   ],
   "source": [
    "# Check for missing values\n",
    "pp_df2.isna().sum()"
   ]
  },
  {
   "cell_type": "code",
   "execution_count": 123,
   "id": "3592ae1c",
   "metadata": {},
   "outputs": [],
   "source": [
    "pp_df2['PP'] = pp_df['PP'] * 0.1"
   ]
  },
  {
   "cell_type": "code",
   "execution_count": 124,
   "id": "a6cb5534",
   "metadata": {},
   "outputs": [
    {
     "data": {
      "text/html": [
       "<div>\n",
       "<style scoped>\n",
       "    .dataframe tbody tr th:only-of-type {\n",
       "        vertical-align: middle;\n",
       "    }\n",
       "\n",
       "    .dataframe tbody tr th {\n",
       "        vertical-align: top;\n",
       "    }\n",
       "\n",
       "    .dataframe thead th {\n",
       "        text-align: right;\n",
       "    }\n",
       "</style>\n",
       "<table border=\"1\" class=\"dataframe\">\n",
       "  <thead>\n",
       "    <tr style=\"text-align: right;\">\n",
       "      <th></th>\n",
       "      <th>DATE</th>\n",
       "      <th>PP</th>\n",
       "    </tr>\n",
       "  </thead>\n",
       "  <tbody>\n",
       "    <tr>\n",
       "      <th>0</th>\n",
       "      <td>1979-01-01</td>\n",
       "      <td>1019.0</td>\n",
       "    </tr>\n",
       "    <tr>\n",
       "      <th>1</th>\n",
       "      <td>1979-01-02</td>\n",
       "      <td>1025.3</td>\n",
       "    </tr>\n",
       "    <tr>\n",
       "      <th>2</th>\n",
       "      <td>1979-01-03</td>\n",
       "      <td>1020.5</td>\n",
       "    </tr>\n",
       "    <tr>\n",
       "      <th>3</th>\n",
       "      <td>1979-01-04</td>\n",
       "      <td>1008.4</td>\n",
       "    </tr>\n",
       "    <tr>\n",
       "      <th>4</th>\n",
       "      <td>1979-01-05</td>\n",
       "      <td>1022.5</td>\n",
       "    </tr>\n",
       "    <tr>\n",
       "      <th>...</th>\n",
       "      <td>...</td>\n",
       "      <td>...</td>\n",
       "    </tr>\n",
       "    <tr>\n",
       "      <th>16066</th>\n",
       "      <td>2022-12-27</td>\n",
       "      <td>1019.3</td>\n",
       "    </tr>\n",
       "    <tr>\n",
       "      <th>16067</th>\n",
       "      <td>2022-12-28</td>\n",
       "      <td>1001.9</td>\n",
       "    </tr>\n",
       "    <tr>\n",
       "      <th>16068</th>\n",
       "      <td>2022-12-29</td>\n",
       "      <td>1001.0</td>\n",
       "    </tr>\n",
       "    <tr>\n",
       "      <th>16069</th>\n",
       "      <td>2022-12-30</td>\n",
       "      <td>997.1</td>\n",
       "    </tr>\n",
       "    <tr>\n",
       "      <th>16070</th>\n",
       "      <td>2022-12-31</td>\n",
       "      <td>999.5</td>\n",
       "    </tr>\n",
       "  </tbody>\n",
       "</table>\n",
       "<p>16071 rows × 2 columns</p>\n",
       "</div>"
      ],
      "text/plain": [
       "            DATE      PP\n",
       "0     1979-01-01  1019.0\n",
       "1     1979-01-02  1025.3\n",
       "2     1979-01-03  1020.5\n",
       "3     1979-01-04  1008.4\n",
       "4     1979-01-05  1022.5\n",
       "...          ...     ...\n",
       "16066 2022-12-27  1019.3\n",
       "16067 2022-12-28  1001.9\n",
       "16068 2022-12-29  1001.0\n",
       "16069 2022-12-30   997.1\n",
       "16070 2022-12-31   999.5\n",
       "\n",
       "[16071 rows x 2 columns]"
      ]
     },
     "execution_count": 124,
     "metadata": {},
     "output_type": "execute_result"
    }
   ],
   "source": [
    "pp_df2"
   ]
  },
  {
   "cell_type": "code",
   "execution_count": 125,
   "id": "79134130",
   "metadata": {},
   "outputs": [
    {
     "data": {
      "text/html": [
       "<div>\n",
       "<style scoped>\n",
       "    .dataframe tbody tr th:only-of-type {\n",
       "        vertical-align: middle;\n",
       "    }\n",
       "\n",
       "    .dataframe tbody tr th {\n",
       "        vertical-align: top;\n",
       "    }\n",
       "\n",
       "    .dataframe thead th {\n",
       "        text-align: right;\n",
       "    }\n",
       "</style>\n",
       "<table border=\"1\" class=\"dataframe\">\n",
       "  <thead>\n",
       "    <tr style=\"text-align: right;\">\n",
       "      <th></th>\n",
       "      <th>DATE</th>\n",
       "      <th>PP</th>\n",
       "    </tr>\n",
       "  </thead>\n",
       "  <tbody>\n",
       "  </tbody>\n",
       "</table>\n",
       "</div>"
      ],
      "text/plain": [
       "Empty DataFrame\n",
       "Columns: [DATE, PP]\n",
       "Index: []"
      ]
     },
     "execution_count": 125,
     "metadata": {},
     "output_type": "execute_result"
    }
   ],
   "source": [
    "pp_df2.loc[np.where(pp_df2['DATE'].duplicated())[0]]"
   ]
  },
  {
   "cell_type": "markdown",
   "id": "1aaac421",
   "metadata": {},
   "source": [
    "## SD"
   ]
  },
  {
   "cell_type": "code",
   "execution_count": 126,
   "id": "b4621705",
   "metadata": {},
   "outputs": [],
   "source": [
    "# Read in data\n",
    "sd_df = pd.read_csv(\"C:\\\\Users\\\\mitth\\\\OneDrive\\\\Desktop\\\\ECA_blended_custom\\\\Reworked\\\\SD_STAID001860_1.txt\", delimiter=\",\")"
   ]
  },
  {
   "cell_type": "code",
   "execution_count": 127,
   "id": "50f9940b",
   "metadata": {},
   "outputs": [
    {
     "data": {
      "text/html": [
       "<div>\n",
       "<style scoped>\n",
       "    .dataframe tbody tr th:only-of-type {\n",
       "        vertical-align: middle;\n",
       "    }\n",
       "\n",
       "    .dataframe tbody tr th {\n",
       "        vertical-align: top;\n",
       "    }\n",
       "\n",
       "    .dataframe thead th {\n",
       "        text-align: right;\n",
       "    }\n",
       "</style>\n",
       "<table border=\"1\" class=\"dataframe\">\n",
       "  <thead>\n",
       "    <tr style=\"text-align: right;\">\n",
       "      <th></th>\n",
       "      <th>SOUID</th>\n",
       "      <th>DATE</th>\n",
       "      <th>SD</th>\n",
       "      <th>Q_SD</th>\n",
       "    </tr>\n",
       "  </thead>\n",
       "  <tbody>\n",
       "    <tr>\n",
       "      <th>0</th>\n",
       "      <td>116436</td>\n",
       "      <td>19790101</td>\n",
       "      <td>9</td>\n",
       "      <td>0</td>\n",
       "    </tr>\n",
       "    <tr>\n",
       "      <th>1</th>\n",
       "      <td>116436</td>\n",
       "      <td>19790102</td>\n",
       "      <td>8</td>\n",
       "      <td>0</td>\n",
       "    </tr>\n",
       "    <tr>\n",
       "      <th>2</th>\n",
       "      <td>116436</td>\n",
       "      <td>19790103</td>\n",
       "      <td>4</td>\n",
       "      <td>0</td>\n",
       "    </tr>\n",
       "    <tr>\n",
       "      <th>3</th>\n",
       "      <td>116436</td>\n",
       "      <td>19790104</td>\n",
       "      <td>2</td>\n",
       "      <td>0</td>\n",
       "    </tr>\n",
       "    <tr>\n",
       "      <th>4</th>\n",
       "      <td>116436</td>\n",
       "      <td>19790105</td>\n",
       "      <td>1</td>\n",
       "      <td>0</td>\n",
       "    </tr>\n",
       "  </tbody>\n",
       "</table>\n",
       "</div>"
      ],
      "text/plain": [
       "    SOUID      DATE     SD   Q_SD\n",
       "0  116436  19790101      9      0\n",
       "1  116436  19790102      8      0\n",
       "2  116436  19790103      4      0\n",
       "3  116436  19790104      2      0\n",
       "4  116436  19790105      1      0"
      ]
     },
     "execution_count": 127,
     "metadata": {},
     "output_type": "execute_result"
    }
   ],
   "source": [
    "sd_df.head()"
   ]
  },
  {
   "cell_type": "code",
   "execution_count": 128,
   "id": "037add15",
   "metadata": {},
   "outputs": [
    {
     "name": "stdout",
     "output_type": "stream",
     "text": [
      "<class 'pandas.core.frame.DataFrame'>\n",
      "RangeIndex: 16071 entries, 0 to 16070\n",
      "Data columns (total 4 columns):\n",
      " #   Column    Non-Null Count  Dtype\n",
      "---  ------    --------------  -----\n",
      " 0    SOUID    16071 non-null  int64\n",
      " 1       DATE  16071 non-null  int64\n",
      " 2      SD     16071 non-null  int64\n",
      " 3    Q_SD     16071 non-null  int64\n",
      "dtypes: int64(4)\n",
      "memory usage: 502.3 KB\n"
     ]
    }
   ],
   "source": [
    "sd_df.info()"
   ]
  },
  {
   "cell_type": "code",
   "execution_count": 129,
   "id": "54a794a1",
   "metadata": {},
   "outputs": [],
   "source": [
    "sd_df.columns = sd_df.columns.str.strip()"
   ]
  },
  {
   "cell_type": "code",
   "execution_count": 130,
   "id": "84811685",
   "metadata": {},
   "outputs": [
    {
     "name": "stdout",
     "output_type": "stream",
     "text": [
      "<class 'pandas.core.frame.DataFrame'>\n",
      "RangeIndex: 16071 entries, 0 to 16070\n",
      "Data columns (total 4 columns):\n",
      " #   Column  Non-Null Count  Dtype\n",
      "---  ------  --------------  -----\n",
      " 0   SOUID   16071 non-null  int64\n",
      " 1   DATE    16071 non-null  int64\n",
      " 2   SD      16071 non-null  int64\n",
      " 3   Q_SD    16071 non-null  int64\n",
      "dtypes: int64(4)\n",
      "memory usage: 502.3 KB\n"
     ]
    }
   ],
   "source": [
    "sd_df.info()"
   ]
  },
  {
   "cell_type": "code",
   "execution_count": 131,
   "id": "44422a3d",
   "metadata": {},
   "outputs": [],
   "source": [
    "sd_df2 = sd_df.copy()"
   ]
  },
  {
   "cell_type": "code",
   "execution_count": 132,
   "id": "b3f02270",
   "metadata": {},
   "outputs": [],
   "source": [
    "columns_to_drop = ['SOUID', 'Q_SD']"
   ]
  },
  {
   "cell_type": "code",
   "execution_count": 133,
   "id": "0706e86b",
   "metadata": {},
   "outputs": [],
   "source": [
    "sd_df2 = sd_df.drop(columns=columns_to_drop)"
   ]
  },
  {
   "cell_type": "code",
   "execution_count": 134,
   "id": "d557a74d",
   "metadata": {},
   "outputs": [
    {
     "data": {
      "text/plain": [
       "20221231"
      ]
     },
     "execution_count": 134,
     "metadata": {},
     "output_type": "execute_result"
    }
   ],
   "source": [
    "sd_df2['DATE'].loc[16070]"
   ]
  },
  {
   "cell_type": "code",
   "execution_count": 135,
   "id": "64ee4fec",
   "metadata": {},
   "outputs": [],
   "source": [
    "sd_df2['DATE'] = pd.to_datetime(sd_df['DATE'], format='%Y%m%d')"
   ]
  },
  {
   "cell_type": "code",
   "execution_count": 136,
   "id": "64bfe087",
   "metadata": {},
   "outputs": [
    {
     "data": {
      "text/plain": [
       "DATE    0\n",
       "SD      0\n",
       "dtype: int64"
      ]
     },
     "execution_count": 136,
     "metadata": {},
     "output_type": "execute_result"
    }
   ],
   "source": [
    "# Check for missing values\n",
    "sd_df2.isna().sum()"
   ]
  },
  {
   "cell_type": "code",
   "execution_count": 137,
   "id": "c6441789",
   "metadata": {},
   "outputs": [
    {
     "name": "stdout",
     "output_type": "stream",
     "text": [
      "DATE    0\n",
      "SD      0\n",
      "dtype: int64\n"
     ]
    }
   ],
   "source": [
    "sd_df2.replace(-9999, pd.NA, inplace=True)\n",
    "\n",
    "# Count the occurrences of -9999 in each column\n",
    "missing_counts = sd_df2.eq(-9999).sum()\n",
    "\n",
    "# Print the counts\n",
    "print(missing_counts)"
   ]
  },
  {
   "cell_type": "code",
   "execution_count": 138,
   "id": "c9a3c29d",
   "metadata": {},
   "outputs": [
    {
     "data": {
      "text/plain": [
       "DATE       0\n",
       "SD      1075\n",
       "dtype: int64"
      ]
     },
     "execution_count": 138,
     "metadata": {},
     "output_type": "execute_result"
    }
   ],
   "source": [
    "# Check for missing values\n",
    "sd_df2.isna().sum()"
   ]
  },
  {
   "cell_type": "code",
   "execution_count": 139,
   "id": "c44be151",
   "metadata": {},
   "outputs": [
    {
     "data": {
      "text/html": [
       "<div>\n",
       "<style scoped>\n",
       "    .dataframe tbody tr th:only-of-type {\n",
       "        vertical-align: middle;\n",
       "    }\n",
       "\n",
       "    .dataframe tbody tr th {\n",
       "        vertical-align: top;\n",
       "    }\n",
       "\n",
       "    .dataframe thead th {\n",
       "        text-align: right;\n",
       "    }\n",
       "</style>\n",
       "<table border=\"1\" class=\"dataframe\">\n",
       "  <thead>\n",
       "    <tr style=\"text-align: right;\">\n",
       "      <th></th>\n",
       "      <th>DATE</th>\n",
       "      <th>SD</th>\n",
       "    </tr>\n",
       "  </thead>\n",
       "  <tbody>\n",
       "  </tbody>\n",
       "</table>\n",
       "</div>"
      ],
      "text/plain": [
       "Empty DataFrame\n",
       "Columns: [DATE, SD]\n",
       "Index: []"
      ]
     },
     "execution_count": 139,
     "metadata": {},
     "output_type": "execute_result"
    }
   ],
   "source": [
    "sd_df2.loc[np.where(sd_df2['DATE'].duplicated())[0]]"
   ]
  },
  {
   "cell_type": "markdown",
   "id": "a65a56b7",
   "metadata": {},
   "source": [
    "## SS"
   ]
  },
  {
   "cell_type": "code",
   "execution_count": 140,
   "id": "72882860",
   "metadata": {},
   "outputs": [],
   "source": [
    "# Read in data\n",
    "ss_df = pd.read_csv(\"C:\\\\Users\\\\mitth\\\\OneDrive\\\\Desktop\\\\ECA_blended_custom\\\\Reworked\\\\SS_STAID001860.txt\", delimiter=\",\")"
   ]
  },
  {
   "cell_type": "code",
   "execution_count": 141,
   "id": "26616847",
   "metadata": {},
   "outputs": [
    {
     "data": {
      "text/html": [
       "<div>\n",
       "<style scoped>\n",
       "    .dataframe tbody tr th:only-of-type {\n",
       "        vertical-align: middle;\n",
       "    }\n",
       "\n",
       "    .dataframe tbody tr th {\n",
       "        vertical-align: top;\n",
       "    }\n",
       "\n",
       "    .dataframe thead th {\n",
       "        text-align: right;\n",
       "    }\n",
       "</style>\n",
       "<table border=\"1\" class=\"dataframe\">\n",
       "  <thead>\n",
       "    <tr style=\"text-align: right;\">\n",
       "      <th></th>\n",
       "      <th>SOUID</th>\n",
       "      <th>DATE</th>\n",
       "      <th>SS</th>\n",
       "      <th>Q_SS</th>\n",
       "    </tr>\n",
       "  </thead>\n",
       "  <tbody>\n",
       "    <tr>\n",
       "      <th>0</th>\n",
       "      <td>116439</td>\n",
       "      <td>19790101</td>\n",
       "      <td>70</td>\n",
       "      <td>0</td>\n",
       "    </tr>\n",
       "    <tr>\n",
       "      <th>1</th>\n",
       "      <td>116439</td>\n",
       "      <td>19790102</td>\n",
       "      <td>17</td>\n",
       "      <td>0</td>\n",
       "    </tr>\n",
       "    <tr>\n",
       "      <th>2</th>\n",
       "      <td>116439</td>\n",
       "      <td>19790103</td>\n",
       "      <td>0</td>\n",
       "      <td>0</td>\n",
       "    </tr>\n",
       "    <tr>\n",
       "      <th>3</th>\n",
       "      <td>116439</td>\n",
       "      <td>19790104</td>\n",
       "      <td>0</td>\n",
       "      <td>0</td>\n",
       "    </tr>\n",
       "    <tr>\n",
       "      <th>4</th>\n",
       "      <td>116439</td>\n",
       "      <td>19790105</td>\n",
       "      <td>20</td>\n",
       "      <td>0</td>\n",
       "    </tr>\n",
       "  </tbody>\n",
       "</table>\n",
       "</div>"
      ],
      "text/plain": [
       "    SOUID      DATE     SS   Q_SS\n",
       "0  116439  19790101     70      0\n",
       "1  116439  19790102     17      0\n",
       "2  116439  19790103      0      0\n",
       "3  116439  19790104      0      0\n",
       "4  116439  19790105     20      0"
      ]
     },
     "execution_count": 141,
     "metadata": {},
     "output_type": "execute_result"
    }
   ],
   "source": [
    "ss_df.head()"
   ]
  },
  {
   "cell_type": "code",
   "execution_count": 142,
   "id": "51c87d7c",
   "metadata": {},
   "outputs": [
    {
     "name": "stdout",
     "output_type": "stream",
     "text": [
      "<class 'pandas.core.frame.DataFrame'>\n",
      "RangeIndex: 16071 entries, 0 to 16070\n",
      "Data columns (total 4 columns):\n",
      " #   Column    Non-Null Count  Dtype\n",
      "---  ------    --------------  -----\n",
      " 0    SOUID    16071 non-null  int64\n",
      " 1       DATE  16071 non-null  int64\n",
      " 2      SS     16071 non-null  int64\n",
      " 3    Q_SS     16071 non-null  int64\n",
      "dtypes: int64(4)\n",
      "memory usage: 502.3 KB\n"
     ]
    }
   ],
   "source": [
    "ss_df.info()"
   ]
  },
  {
   "cell_type": "code",
   "execution_count": 143,
   "id": "d20760a8",
   "metadata": {},
   "outputs": [],
   "source": [
    "ss_df.columns = ss_df.columns.str.strip()"
   ]
  },
  {
   "cell_type": "code",
   "execution_count": 144,
   "id": "49eb42aa",
   "metadata": {},
   "outputs": [],
   "source": [
    "ss_df2 = ss_df.copy()"
   ]
  },
  {
   "cell_type": "code",
   "execution_count": 145,
   "id": "74b16e44",
   "metadata": {},
   "outputs": [],
   "source": [
    "columns_to_drop = ['SOUID', 'Q_SS']"
   ]
  },
  {
   "cell_type": "code",
   "execution_count": 146,
   "id": "5c700635",
   "metadata": {},
   "outputs": [],
   "source": [
    "ss_df2 = ss_df.drop(columns=columns_to_drop)"
   ]
  },
  {
   "cell_type": "code",
   "execution_count": 147,
   "id": "bca70726",
   "metadata": {},
   "outputs": [
    {
     "name": "stdout",
     "output_type": "stream",
     "text": [
      "<class 'pandas.core.frame.DataFrame'>\n",
      "RangeIndex: 16071 entries, 0 to 16070\n",
      "Data columns (total 2 columns):\n",
      " #   Column  Non-Null Count  Dtype\n",
      "---  ------  --------------  -----\n",
      " 0   DATE    16071 non-null  int64\n",
      " 1   SS      16071 non-null  int64\n",
      "dtypes: int64(2)\n",
      "memory usage: 251.2 KB\n"
     ]
    }
   ],
   "source": [
    "ss_df2.info()"
   ]
  },
  {
   "cell_type": "code",
   "execution_count": 148,
   "id": "3a994474",
   "metadata": {},
   "outputs": [],
   "source": [
    "ss_df2['DATE'] = pd.to_datetime(ss_df['DATE'], format='%Y%m%d')"
   ]
  },
  {
   "cell_type": "code",
   "execution_count": 149,
   "id": "df8fc5ec",
   "metadata": {},
   "outputs": [
    {
     "name": "stdout",
     "output_type": "stream",
     "text": [
      "DATE    0\n",
      "SS      0\n",
      "dtype: int64\n"
     ]
    }
   ],
   "source": [
    "ss_df2.replace(-9999, pd.NA, inplace=True)\n",
    "\n",
    "# Count the occurrences of -9999 in each column\n",
    "missing_counts = ss_df2.eq(-9999).sum()\n",
    "\n",
    "# Print the counts\n",
    "print(missing_counts)"
   ]
  },
  {
   "cell_type": "code",
   "execution_count": 150,
   "id": "a7ce99d3",
   "metadata": {},
   "outputs": [
    {
     "data": {
      "text/plain": [
       "DATE    0\n",
       "SS      0\n",
       "dtype: int64"
      ]
     },
     "execution_count": 150,
     "metadata": {},
     "output_type": "execute_result"
    }
   ],
   "source": [
    "# Check for missing values\n",
    "ss_df2.isna().sum()"
   ]
  },
  {
   "cell_type": "code",
   "execution_count": 151,
   "id": "5100a040",
   "metadata": {},
   "outputs": [],
   "source": [
    "ss_df2['SS'] = ss_df['SS'] * 0.1"
   ]
  },
  {
   "cell_type": "code",
   "execution_count": 152,
   "id": "44760dc9",
   "metadata": {},
   "outputs": [
    {
     "data": {
      "text/html": [
       "<div>\n",
       "<style scoped>\n",
       "    .dataframe tbody tr th:only-of-type {\n",
       "        vertical-align: middle;\n",
       "    }\n",
       "\n",
       "    .dataframe tbody tr th {\n",
       "        vertical-align: top;\n",
       "    }\n",
       "\n",
       "    .dataframe thead th {\n",
       "        text-align: right;\n",
       "    }\n",
       "</style>\n",
       "<table border=\"1\" class=\"dataframe\">\n",
       "  <thead>\n",
       "    <tr style=\"text-align: right;\">\n",
       "      <th></th>\n",
       "      <th>DATE</th>\n",
       "      <th>SS</th>\n",
       "    </tr>\n",
       "  </thead>\n",
       "  <tbody>\n",
       "    <tr>\n",
       "      <th>0</th>\n",
       "      <td>1979-01-01</td>\n",
       "      <td>7.0</td>\n",
       "    </tr>\n",
       "    <tr>\n",
       "      <th>1</th>\n",
       "      <td>1979-01-02</td>\n",
       "      <td>1.7</td>\n",
       "    </tr>\n",
       "    <tr>\n",
       "      <th>2</th>\n",
       "      <td>1979-01-03</td>\n",
       "      <td>0.0</td>\n",
       "    </tr>\n",
       "    <tr>\n",
       "      <th>3</th>\n",
       "      <td>1979-01-04</td>\n",
       "      <td>0.0</td>\n",
       "    </tr>\n",
       "    <tr>\n",
       "      <th>4</th>\n",
       "      <td>1979-01-05</td>\n",
       "      <td>2.0</td>\n",
       "    </tr>\n",
       "    <tr>\n",
       "      <th>...</th>\n",
       "      <td>...</td>\n",
       "      <td>...</td>\n",
       "    </tr>\n",
       "    <tr>\n",
       "      <th>16066</th>\n",
       "      <td>2022-12-27</td>\n",
       "      <td>0.5</td>\n",
       "    </tr>\n",
       "    <tr>\n",
       "      <th>16067</th>\n",
       "      <td>2022-12-28</td>\n",
       "      <td>0.0</td>\n",
       "    </tr>\n",
       "    <tr>\n",
       "      <th>16068</th>\n",
       "      <td>2022-12-29</td>\n",
       "      <td>1.5</td>\n",
       "    </tr>\n",
       "    <tr>\n",
       "      <th>16069</th>\n",
       "      <td>2022-12-30</td>\n",
       "      <td>0.1</td>\n",
       "    </tr>\n",
       "    <tr>\n",
       "      <th>16070</th>\n",
       "      <td>2022-12-31</td>\n",
       "      <td>0.0</td>\n",
       "    </tr>\n",
       "  </tbody>\n",
       "</table>\n",
       "<p>16071 rows × 2 columns</p>\n",
       "</div>"
      ],
      "text/plain": [
       "            DATE   SS\n",
       "0     1979-01-01  7.0\n",
       "1     1979-01-02  1.7\n",
       "2     1979-01-03  0.0\n",
       "3     1979-01-04  0.0\n",
       "4     1979-01-05  2.0\n",
       "...          ...  ...\n",
       "16066 2022-12-27  0.5\n",
       "16067 2022-12-28  0.0\n",
       "16068 2022-12-29  1.5\n",
       "16069 2022-12-30  0.1\n",
       "16070 2022-12-31  0.0\n",
       "\n",
       "[16071 rows x 2 columns]"
      ]
     },
     "execution_count": 152,
     "metadata": {},
     "output_type": "execute_result"
    }
   ],
   "source": [
    "ss_df2"
   ]
  },
  {
   "cell_type": "code",
   "execution_count": 153,
   "id": "fbaad0a9",
   "metadata": {},
   "outputs": [
    {
     "name": "stdout",
     "output_type": "stream",
     "text": [
      "<class 'pandas.core.frame.DataFrame'>\n",
      "RangeIndex: 16071 entries, 0 to 16070\n",
      "Data columns (total 2 columns):\n",
      " #   Column  Non-Null Count  Dtype         \n",
      "---  ------  --------------  -----         \n",
      " 0   DATE    16071 non-null  datetime64[ns]\n",
      " 1   SS      16071 non-null  float64       \n",
      "dtypes: datetime64[ns](1), float64(1)\n",
      "memory usage: 251.2 KB\n"
     ]
    }
   ],
   "source": [
    "ss_df2.info()"
   ]
  },
  {
   "cell_type": "code",
   "execution_count": 154,
   "id": "52a3d4b2",
   "metadata": {},
   "outputs": [
    {
     "data": {
      "text/html": [
       "<div>\n",
       "<style scoped>\n",
       "    .dataframe tbody tr th:only-of-type {\n",
       "        vertical-align: middle;\n",
       "    }\n",
       "\n",
       "    .dataframe tbody tr th {\n",
       "        vertical-align: top;\n",
       "    }\n",
       "\n",
       "    .dataframe thead th {\n",
       "        text-align: right;\n",
       "    }\n",
       "</style>\n",
       "<table border=\"1\" class=\"dataframe\">\n",
       "  <thead>\n",
       "    <tr style=\"text-align: right;\">\n",
       "      <th></th>\n",
       "      <th>DATE</th>\n",
       "      <th>SS</th>\n",
       "    </tr>\n",
       "  </thead>\n",
       "  <tbody>\n",
       "  </tbody>\n",
       "</table>\n",
       "</div>"
      ],
      "text/plain": [
       "Empty DataFrame\n",
       "Columns: [DATE, SS]\n",
       "Index: []"
      ]
     },
     "execution_count": 154,
     "metadata": {},
     "output_type": "execute_result"
    }
   ],
   "source": [
    "ss_df2.loc[np.where(ss_df2['DATE'].duplicated())[0]]"
   ]
  },
  {
   "cell_type": "markdown",
   "id": "61da2455",
   "metadata": {},
   "source": [
    "## MERGE\n",
    "### Combining all the datasets to form one"
   ]
  },
  {
   "cell_type": "code",
   "execution_count": 155,
   "id": "e6c0373b",
   "metadata": {},
   "outputs": [],
   "source": [
    "cc_df3 = cc_df2.copy()"
   ]
  },
  {
   "cell_type": "code",
   "execution_count": 156,
   "id": "2d2cafd2",
   "metadata": {},
   "outputs": [],
   "source": [
    "hu_df3 = hu_df2.copy()"
   ]
  },
  {
   "cell_type": "code",
   "execution_count": 157,
   "id": "453beeee",
   "metadata": {},
   "outputs": [],
   "source": [
    "qq_df3 = qq_df2.copy()"
   ]
  },
  {
   "cell_type": "code",
   "execution_count": 158,
   "id": "ded2b3c7",
   "metadata": {},
   "outputs": [],
   "source": [
    "tx_df3 = tx_df2.copy()"
   ]
  },
  {
   "cell_type": "code",
   "execution_count": 159,
   "id": "86ff659a",
   "metadata": {},
   "outputs": [],
   "source": [
    "tn_df3 = tn_df2.copy()"
   ]
  },
  {
   "cell_type": "code",
   "execution_count": 160,
   "id": "853db961",
   "metadata": {},
   "outputs": [],
   "source": [
    "tg_df3 = tg_df2.copy()"
   ]
  },
  {
   "cell_type": "code",
   "execution_count": 161,
   "id": "baddc804",
   "metadata": {},
   "outputs": [],
   "source": [
    "rr_df3 = rr_df2.copy()"
   ]
  },
  {
   "cell_type": "code",
   "execution_count": 162,
   "id": "ac6ca4e8",
   "metadata": {},
   "outputs": [],
   "source": [
    "pp_df3 = pp_df2.copy()"
   ]
  },
  {
   "cell_type": "code",
   "execution_count": 163,
   "id": "380961f6",
   "metadata": {},
   "outputs": [],
   "source": [
    "sd_df3 = sd_df2.copy()"
   ]
  },
  {
   "cell_type": "code",
   "execution_count": 164,
   "id": "c4f6909d",
   "metadata": {},
   "outputs": [],
   "source": [
    "ss_df3 = ss_df2.copy()"
   ]
  },
  {
   "cell_type": "code",
   "execution_count": 165,
   "id": "556d05e0",
   "metadata": {},
   "outputs": [],
   "source": [
    "var_df = [cc_df3, hu_df3, qq_df3, tx_df3, tn_df3, tg_df3, rr_df3, pp_df3, sd_df3, ss_df3]"
   ]
  },
  {
   "cell_type": "code",
   "execution_count": 166,
   "id": "36c57a4e",
   "metadata": {},
   "outputs": [],
   "source": [
    "lw_df = pd.concat([df.set_index('DATE') for df in var_df], axis=1, join='inner').reset_index()"
   ]
  },
  {
   "cell_type": "code",
   "execution_count": 167,
   "id": "3b4de39f",
   "metadata": {},
   "outputs": [
    {
     "data": {
      "text/html": [
       "<div>\n",
       "<style scoped>\n",
       "    .dataframe tbody tr th:only-of-type {\n",
       "        vertical-align: middle;\n",
       "    }\n",
       "\n",
       "    .dataframe tbody tr th {\n",
       "        vertical-align: top;\n",
       "    }\n",
       "\n",
       "    .dataframe thead th {\n",
       "        text-align: right;\n",
       "    }\n",
       "</style>\n",
       "<table border=\"1\" class=\"dataframe\">\n",
       "  <thead>\n",
       "    <tr style=\"text-align: right;\">\n",
       "      <th></th>\n",
       "      <th>DATE</th>\n",
       "      <th>CC</th>\n",
       "      <th>HU</th>\n",
       "      <th>QQ</th>\n",
       "      <th>TX</th>\n",
       "      <th>TN</th>\n",
       "      <th>TG</th>\n",
       "      <th>RR</th>\n",
       "      <th>PP</th>\n",
       "      <th>SD</th>\n",
       "      <th>SS</th>\n",
       "    </tr>\n",
       "  </thead>\n",
       "  <tbody>\n",
       "    <tr>\n",
       "      <th>0</th>\n",
       "      <td>1979-01-01</td>\n",
       "      <td>2</td>\n",
       "      <td>83</td>\n",
       "      <td>52</td>\n",
       "      <td>2.3</td>\n",
       "      <td>-7.5</td>\n",
       "      <td>-4.1</td>\n",
       "      <td>0.4</td>\n",
       "      <td>1019.0</td>\n",
       "      <td>9</td>\n",
       "      <td>7.0</td>\n",
       "    </tr>\n",
       "    <tr>\n",
       "      <th>1</th>\n",
       "      <td>1979-01-02</td>\n",
       "      <td>6</td>\n",
       "      <td>76</td>\n",
       "      <td>27</td>\n",
       "      <td>1.6</td>\n",
       "      <td>-7.5</td>\n",
       "      <td>-2.6</td>\n",
       "      <td>0.0</td>\n",
       "      <td>1025.3</td>\n",
       "      <td>8</td>\n",
       "      <td>1.7</td>\n",
       "    </tr>\n",
       "    <tr>\n",
       "      <th>2</th>\n",
       "      <td>1979-01-03</td>\n",
       "      <td>5</td>\n",
       "      <td>86</td>\n",
       "      <td>13</td>\n",
       "      <td>1.3</td>\n",
       "      <td>-7.2</td>\n",
       "      <td>-2.8</td>\n",
       "      <td>0.0</td>\n",
       "      <td>1020.5</td>\n",
       "      <td>4</td>\n",
       "      <td>0.0</td>\n",
       "    </tr>\n",
       "    <tr>\n",
       "      <th>3</th>\n",
       "      <td>1979-01-04</td>\n",
       "      <td>8</td>\n",
       "      <td>68</td>\n",
       "      <td>13</td>\n",
       "      <td>-0.3</td>\n",
       "      <td>-6.5</td>\n",
       "      <td>-2.6</td>\n",
       "      <td>0.0</td>\n",
       "      <td>1008.4</td>\n",
       "      <td>2</td>\n",
       "      <td>0.0</td>\n",
       "    </tr>\n",
       "    <tr>\n",
       "      <th>4</th>\n",
       "      <td>1979-01-05</td>\n",
       "      <td>6</td>\n",
       "      <td>73</td>\n",
       "      <td>29</td>\n",
       "      <td>5.6</td>\n",
       "      <td>-1.4</td>\n",
       "      <td>-0.8</td>\n",
       "      <td>0.0</td>\n",
       "      <td>1022.5</td>\n",
       "      <td>1</td>\n",
       "      <td>2.0</td>\n",
       "    </tr>\n",
       "    <tr>\n",
       "      <th>...</th>\n",
       "      <td>...</td>\n",
       "      <td>...</td>\n",
       "      <td>...</td>\n",
       "      <td>...</td>\n",
       "      <td>...</td>\n",
       "      <td>...</td>\n",
       "      <td>...</td>\n",
       "      <td>...</td>\n",
       "      <td>...</td>\n",
       "      <td>...</td>\n",
       "      <td>...</td>\n",
       "    </tr>\n",
       "    <tr>\n",
       "      <th>16066</th>\n",
       "      <td>2022-12-27</td>\n",
       "      <td>6</td>\n",
       "      <td>88</td>\n",
       "      <td>18</td>\n",
       "      <td>12.0</td>\n",
       "      <td>1.9</td>\n",
       "      <td>6.7</td>\n",
       "      <td>6.2</td>\n",
       "      <td>1019.3</td>\n",
       "      <td>0</td>\n",
       "      <td>0.5</td>\n",
       "    </tr>\n",
       "    <tr>\n",
       "      <th>16067</th>\n",
       "      <td>2022-12-28</td>\n",
       "      <td>8</td>\n",
       "      <td>91</td>\n",
       "      <td>12</td>\n",
       "      <td>9.8</td>\n",
       "      <td>5.7</td>\n",
       "      <td>8.8</td>\n",
       "      <td>3.6</td>\n",
       "      <td>1001.9</td>\n",
       "      <td>0</td>\n",
       "      <td>0.0</td>\n",
       "    </tr>\n",
       "    <tr>\n",
       "      <th>16068</th>\n",
       "      <td>2022-12-29</td>\n",
       "      <td>4</td>\n",
       "      <td>76</td>\n",
       "      <td>25</td>\n",
       "      <td>14.1</td>\n",
       "      <td>8.1</td>\n",
       "      <td>8.9</td>\n",
       "      <td>0.6</td>\n",
       "      <td>1001.0</td>\n",
       "      <td>0</td>\n",
       "      <td>1.5</td>\n",
       "    </tr>\n",
       "    <tr>\n",
       "      <th>16069</th>\n",
       "      <td>2022-12-30</td>\n",
       "      <td>7</td>\n",
       "      <td>86</td>\n",
       "      <td>14</td>\n",
       "      <td>14.0</td>\n",
       "      <td>4.5</td>\n",
       "      <td>9.3</td>\n",
       "      <td>1.8</td>\n",
       "      <td>997.1</td>\n",
       "      <td>0</td>\n",
       "      <td>0.1</td>\n",
       "    </tr>\n",
       "    <tr>\n",
       "      <th>16070</th>\n",
       "      <td>2022-12-31</td>\n",
       "      <td>8</td>\n",
       "      <td>87</td>\n",
       "      <td>13</td>\n",
       "      <td>12.3</td>\n",
       "      <td>8.9</td>\n",
       "      <td>11.4</td>\n",
       "      <td>6.2</td>\n",
       "      <td>999.5</td>\n",
       "      <td>0</td>\n",
       "      <td>0.0</td>\n",
       "    </tr>\n",
       "  </tbody>\n",
       "</table>\n",
       "<p>16071 rows × 11 columns</p>\n",
       "</div>"
      ],
      "text/plain": [
       "            DATE CC  HU  QQ    TX   TN    TG   RR      PP SD   SS\n",
       "0     1979-01-01  2  83  52   2.3 -7.5  -4.1  0.4  1019.0  9  7.0\n",
       "1     1979-01-02  6  76  27   1.6 -7.5  -2.6  0.0  1025.3  8  1.7\n",
       "2     1979-01-03  5  86  13   1.3 -7.2  -2.8  0.0  1020.5  4  0.0\n",
       "3     1979-01-04  8  68  13  -0.3 -6.5  -2.6  0.0  1008.4  2  0.0\n",
       "4     1979-01-05  6  73  29   5.6 -1.4  -0.8  0.0  1022.5  1  2.0\n",
       "...          ... ..  ..  ..   ...  ...   ...  ...     ... ..  ...\n",
       "16066 2022-12-27  6  88  18  12.0  1.9   6.7  6.2  1019.3  0  0.5\n",
       "16067 2022-12-28  8  91  12   9.8  5.7   8.8  3.6  1001.9  0  0.0\n",
       "16068 2022-12-29  4  76  25  14.1  8.1   8.9  0.6  1001.0  0  1.5\n",
       "16069 2022-12-30  7  86  14  14.0  4.5   9.3  1.8   997.1  0  0.1\n",
       "16070 2022-12-31  8  87  13  12.3  8.9  11.4  6.2   999.5  0  0.0\n",
       "\n",
       "[16071 rows x 11 columns]"
      ]
     },
     "execution_count": 167,
     "metadata": {},
     "output_type": "execute_result"
    }
   ],
   "source": [
    "lw_df"
   ]
  },
  {
   "cell_type": "code",
   "execution_count": 168,
   "id": "6d97e9e2",
   "metadata": {},
   "outputs": [
    {
     "name": "stdout",
     "output_type": "stream",
     "text": [
      "<class 'pandas.core.frame.DataFrame'>\n",
      "RangeIndex: 16071 entries, 0 to 16070\n",
      "Data columns (total 11 columns):\n",
      " #   Column  Non-Null Count  Dtype         \n",
      "---  ------  --------------  -----         \n",
      " 0   DATE    16071 non-null  datetime64[ns]\n",
      " 1   CC      16053 non-null  object        \n",
      " 2   HU      16014 non-null  object        \n",
      " 3   QQ      16046 non-null  object        \n",
      " 4   TX      16071 non-null  float64       \n",
      " 5   TN      16071 non-null  float64       \n",
      " 6   TG      16071 non-null  float64       \n",
      " 7   RR      16071 non-null  float64       \n",
      " 8   PP      16071 non-null  float64       \n",
      " 9   SD      14996 non-null  object        \n",
      " 10  SS      16071 non-null  float64       \n",
      "dtypes: datetime64[ns](1), float64(6), object(4)\n",
      "memory usage: 1.3+ MB\n"
     ]
    }
   ],
   "source": [
    "lw_df.info()"
   ]
  },
  {
   "cell_type": "markdown",
   "id": "0961954d",
   "metadata": {},
   "source": [
    "#### Converting into csv file "
   ]
  },
  {
   "cell_type": "code",
   "execution_count": 169,
   "id": "dc3bb8c8",
   "metadata": {},
   "outputs": [],
   "source": [
    "lw_df.to_csv('C:\\\\Users\\\\mitth\\\\Documents\\\\Brainstation\\\\Final_Project\\\\London_Weather_EDA\\\\lw_df.csv', index=False)"
   ]
  }
 ],
 "metadata": {
  "kernelspec": {
   "display_name": "Python 3 (ipykernel)",
   "language": "python",
   "name": "python3"
  },
  "language_info": {
   "codemirror_mode": {
    "name": "ipython",
    "version": 3
   },
   "file_extension": ".py",
   "mimetype": "text/x-python",
   "name": "python",
   "nbconvert_exporter": "python",
   "pygments_lexer": "ipython3",
   "version": "3.11.5"
  }
 },
 "nbformat": 4,
 "nbformat_minor": 5
}
